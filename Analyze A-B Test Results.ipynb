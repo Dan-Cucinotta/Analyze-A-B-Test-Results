{
 "cells": [
  {
   "cell_type": "markdown",
   "metadata": {},
   "source": [
    "# Analyze A/B Test Results \n",
    "\n",
    "- [Introduction](#intro)\n",
    "- [Part I - Probability](#probability)\n",
    "- [Part II - A/B Test](#ab_test)\n",
    "- [Part III - Regression](#regression)\n",
    "- [Conclusion](#conclusion)\n",
    " \n",
    " \n",
    "<a id='intro'></a>\n",
    "## Introduction\n",
    "\n",
    "This report analyzes a dataset containing data from 2 versions of a webpage (old & new) to calculate probability, z-score, and p-values as well as display graphics, other statistics. A regression model will be created/modified and a second dataset (data from the various countries comprising the dataset) will be joined to further analyze and help aid in the decision to continue operating the old page or implement the new page. \n",
    "\n",
    "<a id='probability'></a>\n",
    "## Part I - Probability"
   ]
  },
  {
   "cell_type": "markdown",
   "metadata": {},
   "source": [
    "\n"
   ]
  },
  {
   "cell_type": "code",
   "execution_count": 4516,
   "metadata": {},
   "outputs": [],
   "source": [
    "# Import Libraries for functionality and features.\n",
    "import pandas as pd\n",
    "import numpy as np\n",
    "import random\n",
    "import matplotlib.pyplot as plt\n",
    "import statsmodels.api as sm\n",
    "%matplotlib inline\n",
    "\n",
    "# Setting the seed to assure synchronous answers for reviewers.\n",
    "random.seed(42)"
   ]
  },
  {
   "cell_type": "markdown",
   "metadata": {},
   "source": [
    "\n"
   ]
  },
  {
   "cell_type": "code",
   "execution_count": 4517,
   "metadata": {},
   "outputs": [
    {
     "data": {
      "text/html": [
       "<div>\n",
       "<style scoped>\n",
       "    .dataframe tbody tr th:only-of-type {\n",
       "        vertical-align: middle;\n",
       "    }\n",
       "\n",
       "    .dataframe tbody tr th {\n",
       "        vertical-align: top;\n",
       "    }\n",
       "\n",
       "    .dataframe thead th {\n",
       "        text-align: right;\n",
       "    }\n",
       "</style>\n",
       "<table border=\"1\" class=\"dataframe\">\n",
       "  <thead>\n",
       "    <tr style=\"text-align: right;\">\n",
       "      <th></th>\n",
       "      <th>user_id</th>\n",
       "      <th>timestamp</th>\n",
       "      <th>group</th>\n",
       "      <th>landing_page</th>\n",
       "      <th>converted</th>\n",
       "    </tr>\n",
       "  </thead>\n",
       "  <tbody>\n",
       "    <tr>\n",
       "      <th>0</th>\n",
       "      <td>851104</td>\n",
       "      <td>2017-01-21 22:11:48.556739</td>\n",
       "      <td>control</td>\n",
       "      <td>old_page</td>\n",
       "      <td>0</td>\n",
       "    </tr>\n",
       "    <tr>\n",
       "      <th>1</th>\n",
       "      <td>804228</td>\n",
       "      <td>2017-01-12 08:01:45.159739</td>\n",
       "      <td>control</td>\n",
       "      <td>old_page</td>\n",
       "      <td>0</td>\n",
       "    </tr>\n",
       "    <tr>\n",
       "      <th>2</th>\n",
       "      <td>661590</td>\n",
       "      <td>2017-01-11 16:55:06.154213</td>\n",
       "      <td>treatment</td>\n",
       "      <td>new_page</td>\n",
       "      <td>0</td>\n",
       "    </tr>\n",
       "  </tbody>\n",
       "</table>\n",
       "</div>"
      ],
      "text/plain": [
       "   user_id                   timestamp      group landing_page  converted\n",
       "0   851104  2017-01-21 22:11:48.556739    control     old_page          0\n",
       "1   804228  2017-01-12 08:01:45.159739    control     old_page          0\n",
       "2   661590  2017-01-11 16:55:06.154213  treatment     new_page          0"
      ]
     },
     "execution_count": 4517,
     "metadata": {},
     "output_type": "execute_result"
    }
   ],
   "source": [
    "# Reads the file data into a created dataframe (df)\n",
    "# and displays the first 3 lines.\n",
    "df  = pd.read_csv('ab_data.csv')\n",
    "\n",
    "df.head(3)"
   ]
  },
  {
   "cell_type": "markdown",
   "metadata": {},
   "source": [
    "\n"
   ]
  },
  {
   "cell_type": "code",
   "execution_count": 4518,
   "metadata": {},
   "outputs": [
    {
     "name": "stdout",
     "output_type": "stream",
     "text": [
      "\n",
      "There are 294478 rows/records in the dataframe.\n",
      "\n"
     ]
    }
   ],
   "source": [
    "# Calculates and displays the total length \n",
    "# (number of rows/records) in the dataframe.\n",
    "tot_len = len(df)\n",
    "\n",
    "print('\\nThere are', tot_len, 'rows/records in the dataframe.\\n')"
   ]
  },
  {
   "cell_type": "code",
   "execution_count": 4519,
   "metadata": {},
   "outputs": [
    {
     "name": "stdout",
     "output_type": "stream",
     "text": [
      "user_id         290584\n",
      "timestamp       294478\n",
      "group                2\n",
      "landing_page         2\n",
      "converted            2\n",
      "dtype: int64\n"
     ]
    }
   ],
   "source": [
    "# Displays the number of unique values in the dataset \n",
    "# - 290584 unique user_ids.\n",
    "print(df.nunique())"
   ]
  },
  {
   "cell_type": "markdown",
   "metadata": {},
   "source": [
    "\n"
   ]
  },
  {
   "cell_type": "code",
   "execution_count": 4520,
   "metadata": {},
   "outputs": [
    {
     "name": "stdout",
     "output_type": "stream",
     "text": [
      "\n",
      "There are 35237 users that converted.\n",
      "\n"
     ]
    }
   ],
   "source": [
    "# Calculates the total number of users \n",
    "# that converted and displays.\n",
    "conv = (df['converted'] == 1).sum()\n",
    "\n",
    "print('\\nThere are', conv, 'users that converted.\\n')"
   ]
  },
  {
   "cell_type": "code",
   "execution_count": 4521,
   "metadata": {},
   "outputs": [
    {
     "name": "stdout",
     "output_type": "stream",
     "text": [
      "\n",
      "There are 259241 users that did not convert.\n",
      "\n"
     ]
    }
   ],
   "source": [
    "# Calculates the total number of users \n",
    "# that did not convert and displays.\n",
    "not_conv = (df['converted'] == 0).sum()\n",
    "\n",
    "print('\\nThere are', not_conv, 'users that did not convert.\\n')"
   ]
  },
  {
   "cell_type": "code",
   "execution_count": 4522,
   "metadata": {},
   "outputs": [
    {
     "name": "stdout",
     "output_type": "stream",
     "text": [
      "\n",
      "The proportion of users that converted is 11.966% \n",
      "\n"
     ]
    }
   ],
   "source": [
    "# Calculates the proportion of users \n",
    "# that converted and displays.\n",
    "conv_perc = (conv / tot_len)\n",
    "\n",
    "# For aesthetics.\n",
    "perc_sym = '%'\n",
    "\n",
    "print('\\nThe proportion of users that converted is ' + \n",
    "      str(round(conv_perc * 100, 3)) + perc_sym, '\\n')"
   ]
  },
  {
   "cell_type": "code",
   "execution_count": 4523,
   "metadata": {},
   "outputs": [
    {
     "name": "stdout",
     "output_type": "stream",
     "text": [
      "\n",
      "The proportion of users that did not convert is 88.034% \n",
      "\n"
     ]
    }
   ],
   "source": [
    "# Calculates the proportion of users \n",
    "# that did not convert and displays.\n",
    "not_conv_perc = (not_conv / tot_len)\n",
    "\n",
    "print('\\nThe proportion of users that did not convert is ' + \n",
    "      str(round(not_conv_perc * 100, 3)) + perc_sym, '\\n')"
   ]
  },
  {
   "cell_type": "code",
   "execution_count": 4524,
   "metadata": {},
   "outputs": [
    {
     "name": "stdout",
     "output_type": "stream",
     "text": [
      "\n",
      "There are no NULL/missing values in the dataframe.\n",
      "\n"
     ]
    }
   ],
   "source": [
    "# A Boolean check if any of the rows have \n",
    "# NULL/missing values and displays the result.\n",
    "val_nul = df[((df['group'] == 'treatment') & \n",
    "          (df['landing_page'] != 'new_page'))].isnull().values.any()\n",
    "\n",
    "if val_nul == False:\n",
    "    print('\\nThere are no NULL/missing values in the dataframe.\\n')\n",
    "\n",
    "else:\n",
    "     print('\\nThere are NULL/missing values in the dataframe.\\n')   "
   ]
  },
  {
   "cell_type": "code",
   "execution_count": 4525,
   "metadata": {},
   "outputs": [
    {
     "name": "stdout",
     "output_type": "stream",
     "text": [
      "\n",
      "There are 1965 rows with \"incorrect\" information for the treatment group.\n",
      "\n"
     ]
    }
   ],
   "source": [
    "# The number of times 'group' is treatment and \n",
    "# 'landing_page' is not a new_page.\n",
    "treat_old = df[((df['group'] == 'treatment') &\n",
    "            (df['landing_page'] != 'new_page'))]\n",
    "\n",
    "treat_old = treat_old.count().mean().astype('int')\n",
    "\n",
    "# Displays the number of rows with incorrect information.\n",
    "print('\\nThere are', treat_old, 'rows with'\n",
    "      ' \"incorrect\" information for the treatment group.\\n')"
   ]
  },
  {
   "cell_type": "code",
   "execution_count": 4526,
   "metadata": {},
   "outputs": [
    {
     "name": "stdout",
     "output_type": "stream",
     "text": [
      "\n",
      "There are 1928 rows with \"incorrect\" information for the control group.\n",
      "\n"
     ]
    }
   ],
   "source": [
    "# The number of times 'group' is control and \n",
    "# 'landing_page' is not an old_page.\n",
    "cont_new = df[((df['group'] == 'control') &\n",
    "            (df['landing_page'] != 'old_page'))]\n",
    "\n",
    "cont_new = cont_new.count().mean().astype('int')\n",
    "\n",
    "# Displays the number of rows with incorrect information.\n",
    "print('\\nThere are', cont_new, 'rows with'\n",
    "      ' \"incorrect\" information for the control group.\\n')"
   ]
  },
  {
   "cell_type": "code",
   "execution_count": 4527,
   "metadata": {},
   "outputs": [
    {
     "name": "stdout",
     "output_type": "stream",
     "text": [
      "\n",
      "There are a total of 3893 rows/records with incorrect values that shall be removed from the dataframe.\n",
      "\n"
     ]
    }
   ],
   "source": [
    "# Calculate the total number of rows containing incorrect \n",
    "# information to compare after modifications are made.\n",
    "incrct_info = cont_new + treat_old\n",
    "\n",
    "print('\\nThere are a total of', incrct_info, \n",
    "      'rows/records with incorrect values that '\n",
    "      'shall be removed from the dataframe.\\n')"
   ]
  },
  {
   "cell_type": "code",
   "execution_count": 4528,
   "metadata": {},
   "outputs": [
    {
     "name": "stdout",
     "output_type": "stream",
     "text": [
      "\n",
      "There are 294478 rows and 5 columns in the new copy of the dataframe.\n",
      "\n"
     ]
    }
   ],
   "source": [
    "# Creates a new dataframe (copy of the original dataframe)\n",
    "# and displays the row and column lengths.\n",
    "df2 = df.copy()\n",
    "\n",
    "print('\\nThere are', df2.shape[0], 'rows and', df2.shape[1], \n",
    "      'columns in the new copy of the dataframe.\\n')"
   ]
  },
  {
   "cell_type": "code",
   "execution_count": 4529,
   "metadata": {},
   "outputs": [
    {
     "name": "stdout",
     "output_type": "stream",
     "text": [
      "\n",
      "There are 290585 rows, and 5 columns in the dataframe.\n",
      "\n"
     ]
    }
   ],
   "source": [
    "# Removes the inaccurate rows, and stores the results in df2.\n",
    "df2 = df2.loc[~((df2['group'] == 'treatment') & \n",
    "                (df2['landing_page'] == 'old_page') |\n",
    "                (df2['group'] == 'control') & \n",
    "                (df2['landing_page'] == 'new_page'))]\n",
    "\n",
    "# Displays changes to the datframe, in comparison.\n",
    "print('\\nThere are', df2.shape[0], 'rows, and',  \n",
    "      df2.shape[1], 'columns in the dataframe.\\n')"
   ]
  },
  {
   "cell_type": "code",
   "execution_count": 4530,
   "metadata": {},
   "outputs": [
    {
     "name": "stdout",
     "output_type": "stream",
     "text": [
      "\n",
      "There were 3893 rows/records with incorrect values removed from the dataframe.\n",
      "\n"
     ]
    }
   ],
   "source": [
    "# Calculates the number of rows that had \n",
    "# incorrect information and were removed.\n",
    "incrct_rows = tot_len - df2.shape[0]\n",
    "\n",
    "print('\\nThere were', incrct_rows, 'rows/records '\n",
    "      'with incorrect values removed from the dataframe.\\n')"
   ]
  },
  {
   "cell_type": "code",
   "execution_count": 4531,
   "metadata": {},
   "outputs": [
    {
     "name": "stdout",
     "output_type": "stream",
     "text": [
      "0\n"
     ]
    }
   ],
   "source": [
    "# Verifies that all of the incorrect rows were removed \n",
    "# from the df2 dataframe and displays.\n",
    "print(df2[((df2['group'] == 'treatment') == \n",
    "           (df2['landing_page'] == 'new_page')) == False].shape[0])"
   ]
  },
  {
   "cell_type": "code",
   "execution_count": 4532,
   "metadata": {},
   "outputs": [
    {
     "name": "stdout",
     "output_type": "stream",
     "text": [
      "\n",
      "There are 290584 unique user_ids.\n",
      "\n"
     ]
    }
   ],
   "source": [
    "# Counts the number of unique users (user_ids) and displays.\n",
    "uniq_cnt = df2['user_id'].nunique()\n",
    "\n",
    "print('\\nThere are', uniq_cnt, 'unique user_ids.\\n')"
   ]
  },
  {
   "cell_type": "code",
   "execution_count": 4533,
   "metadata": {},
   "outputs": [
    {
     "name": "stdout",
     "output_type": "stream",
     "text": [
      "\n",
      "There is 1 duplicated row in the dataframe.\n",
      "\n"
     ]
    }
   ],
   "source": [
    "# Calculates the total length of the dataframe and compares to the unique \n",
    "# count, which returns the number of duplicate row(s) in the dataframe. \n",
    "tot_len3 = len(df2)\n",
    "\n",
    "dup_cnt = (tot_len3 - uniq_cnt)\n",
    "\n",
    "print('\\nThere is', dup_cnt, 'duplicated row in the dataframe.\\n')"
   ]
  },
  {
   "cell_type": "code",
   "execution_count": 4534,
   "metadata": {},
   "outputs": [
    {
     "data": {
      "text/html": [
       "<div>\n",
       "<style scoped>\n",
       "    .dataframe tbody tr th:only-of-type {\n",
       "        vertical-align: middle;\n",
       "    }\n",
       "\n",
       "    .dataframe tbody tr th {\n",
       "        vertical-align: top;\n",
       "    }\n",
       "\n",
       "    .dataframe thead th {\n",
       "        text-align: right;\n",
       "    }\n",
       "</style>\n",
       "<table border=\"1\" class=\"dataframe\">\n",
       "  <thead>\n",
       "    <tr style=\"text-align: right;\">\n",
       "      <th></th>\n",
       "      <th>user_id</th>\n",
       "      <th>timestamp</th>\n",
       "      <th>group</th>\n",
       "      <th>landing_page</th>\n",
       "      <th>converted</th>\n",
       "    </tr>\n",
       "  </thead>\n",
       "  <tbody>\n",
       "    <tr>\n",
       "      <th>2893</th>\n",
       "      <td>773192</td>\n",
       "      <td>2017-01-14 02:55:59.590927</td>\n",
       "      <td>treatment</td>\n",
       "      <td>new_page</td>\n",
       "      <td>0</td>\n",
       "    </tr>\n",
       "  </tbody>\n",
       "</table>\n",
       "</div>"
      ],
      "text/plain": [
       "      user_id                   timestamp      group landing_page  converted\n",
       "2893   773192  2017-01-14 02:55:59.590927  treatment     new_page          0"
      ]
     },
     "execution_count": 4534,
     "metadata": {},
     "output_type": "execute_result"
    }
   ],
   "source": [
    "# Stores the located duplicate row and displays.\n",
    "dup_row = df2.loc[df2['user_id'].duplicated()]\n",
    "\n",
    "# Displays the duplicated row.\n",
    "dup_row"
   ]
  },
  {
   "cell_type": "markdown",
   "metadata": {},
   "source": [
    "### The duplicated row is displayed  - the user_id is 773192 (index number 2893)."
   ]
  },
  {
   "cell_type": "markdown",
   "metadata": {},
   "source": [
    "\n"
   ]
  },
  {
   "cell_type": "code",
   "execution_count": 4535,
   "metadata": {},
   "outputs": [
    {
     "data": {
      "text/html": [
       "<div>\n",
       "<style scoped>\n",
       "    .dataframe tbody tr th:only-of-type {\n",
       "        vertical-align: middle;\n",
       "    }\n",
       "\n",
       "    .dataframe tbody tr th {\n",
       "        vertical-align: top;\n",
       "    }\n",
       "\n",
       "    .dataframe thead th {\n",
       "        text-align: right;\n",
       "    }\n",
       "</style>\n",
       "<table border=\"1\" class=\"dataframe\">\n",
       "  <thead>\n",
       "    <tr style=\"text-align: right;\">\n",
       "      <th></th>\n",
       "      <th>user_id</th>\n",
       "      <th>timestamp</th>\n",
       "      <th>group</th>\n",
       "      <th>landing_page</th>\n",
       "      <th>converted</th>\n",
       "    </tr>\n",
       "  </thead>\n",
       "  <tbody>\n",
       "    <tr>\n",
       "      <th>1899</th>\n",
       "      <td>773192</td>\n",
       "      <td>2017-01-09 05:37:58.781806</td>\n",
       "      <td>treatment</td>\n",
       "      <td>new_page</td>\n",
       "      <td>0</td>\n",
       "    </tr>\n",
       "    <tr>\n",
       "      <th>2893</th>\n",
       "      <td>773192</td>\n",
       "      <td>2017-01-14 02:55:59.590927</td>\n",
       "      <td>treatment</td>\n",
       "      <td>new_page</td>\n",
       "      <td>0</td>\n",
       "    </tr>\n",
       "  </tbody>\n",
       "</table>\n",
       "</div>"
      ],
      "text/plain": [
       "      user_id                   timestamp      group landing_page  converted\n",
       "1899   773192  2017-01-09 05:37:58.781806  treatment     new_page          0\n",
       "2893   773192  2017-01-14 02:55:59.590927  treatment     new_page          0"
      ]
     },
     "execution_count": 4535,
     "metadata": {},
     "output_type": "execute_result"
    }
   ],
   "source": [
    "# Stores the value of the user_id from the duplicate row.\n",
    "dup_usr_id = dup_row.user_id.values\n",
    "\n",
    "# Locates 'all' user_ids that match the duplicate.\n",
    "dup_rows = df2.loc[df2['user_id'] == dup_usr_id[0]]\n",
    "\n",
    "# Displays the duplicate rows.\n",
    "dup_rows "
   ]
  },
  {
   "cell_type": "markdown",
   "metadata": {},
   "source": [
    "### The 2 duplicate rows are displayed  - mostly identical, except for the timestamp (and index number)."
   ]
  },
  {
   "cell_type": "markdown",
   "metadata": {},
   "source": [
    "\n"
   ]
  },
  {
   "cell_type": "code",
   "execution_count": 4536,
   "metadata": {},
   "outputs": [
    {
     "name": "stdout",
     "output_type": "stream",
     "text": [
      "\n",
      "The row with the index number 2893 is the duplicate record.\n",
      "\n"
     ]
    }
   ],
   "source": [
    "# Stores and displays the index number value of the duplicate row.\n",
    "dup_indx = dup_row.index\n",
    "\n",
    "print('\\nThe row with the index number',  \n",
    "      dup_indx[0], 'is the duplicate record.\\n')"
   ]
  },
  {
   "cell_type": "code",
   "execution_count": 4537,
   "metadata": {},
   "outputs": [],
   "source": [
    "# Removes the indexed row that has a duplicate \n",
    "# user_id and displays a verification.\n",
    "df2.drop(dup_indx, inplace = True)"
   ]
  },
  {
   "cell_type": "code",
   "execution_count": 4538,
   "metadata": {},
   "outputs": [
    {
     "name": "stdout",
     "output_type": "stream",
     "text": [
      "\n",
      "The number of rows in the dataframe is 290584.\n",
      "\n",
      "\n",
      "The duplicated record has been removed.\n",
      "\n"
     ]
    }
   ],
   "source": [
    "# The new total length of the dataframe.\n",
    "tot_len4 = len(df2)\n",
    "\n",
    "# Creates a variable and stores a Boolean response to a\n",
    "# comparison between the dataframe length and unique values count\n",
    "# to verify that the row with a duplicate user_id is deleted.\n",
    "vrfy_cnt = (tot_len4 == uniq_cnt)\n",
    "\n",
    "# Conditional statement to verify the duplicate row has been dropped.\n",
    "if vrfy_cnt == True:\n",
    "    \n",
    "    print('\\nThe number of rows in the dataframe is ' + str(tot_len4) + '.\\n')\n",
    "    \n",
    "    print('\\nThe duplicated record has been removed.\\n')\n",
    "\n",
    "else:\n",
    "    \n",
    "    print('\\nThe number of rows in the dataframe is ' + str(tot_len4) + '.\\n')\n",
    "    \n",
    "    print('\\nThe duplicated record has not been removed.\\n')"
   ]
  },
  {
   "cell_type": "code",
   "execution_count": 4539,
   "metadata": {},
   "outputs": [
    {
     "name": "stdout",
     "output_type": "stream",
     "text": [
      "\n",
      "The probability that an individual received the new page is 50.006%.\n",
      "\n"
     ]
    }
   ],
   "source": [
    "# Calculates and displays the percentage (probability) \n",
    "# of individuals that received the new_page.\n",
    "new_page_cnt = df2[df2['landing_page'] == 'new_page']\n",
    "\n",
    "new_page_perc = new_page_cnt.count().mean() / len(df2)\n",
    "\n",
    "print('\\nThe probability that an individual received the new ' \n",
    "      'page is ' +str(round(new_page_perc * 100, 3)) + perc_sym + '.\\n')"
   ]
  },
  {
   "cell_type": "code",
   "execution_count": 4540,
   "metadata": {},
   "outputs": [
    {
     "name": "stdout",
     "output_type": "stream",
     "text": [
      "\n",
      "The probability that an individual received the old page is 49.994%.\n",
      "\n"
     ]
    }
   ],
   "source": [
    "# Calculates and displays the percentage (probability) \n",
    "# of individuals that received the old_page.\n",
    "old_page_cnt = df2[df2['landing_page'] == 'old_page']\n",
    "\n",
    "old_page_perc = old_page_cnt.count().mean() / len(df2)\n",
    "\n",
    "print('\\nThe probability that an individual received the old '\n",
    "      'page is ' + str(round(old_page_perc * 100, 3)) + perc_sym + '.\\n')"
   ]
  },
  {
   "cell_type": "code",
   "execution_count": 4541,
   "metadata": {},
   "outputs": [
    {
     "name": "stdout",
     "output_type": "stream",
     "text": [
      "\n",
      "The total number of individuals in the control group is 145274.\n",
      "\n"
     ]
    }
   ],
   "source": [
    "# Calculates and displays the length of the control group.\n",
    "cont_len = len(df2[(df2['group'] == 'control')])\n",
    "\n",
    "print('\\nThe total number of individuals in the '\n",
    "      'control group is ' + str(cont_len) + '.\\n')"
   ]
  },
  {
   "cell_type": "code",
   "execution_count": 4542,
   "metadata": {},
   "outputs": [
    {
     "name": "stdout",
     "output_type": "stream",
     "text": [
      "\n",
      "The total number of individuals in the treatment group is 145310.\n",
      "\n"
     ]
    }
   ],
   "source": [
    "# Calculates and displays the length of the treatment group.\n",
    "treat_len = len(df2[((df2['group'] == 'treatment'))])\n",
    "\n",
    "print('\\nThe total number of individuals in the treatment '\n",
    "      'group is ' + str(treat_len) + '.\\n')"
   ]
  },
  {
   "cell_type": "code",
   "execution_count": 4543,
   "metadata": {},
   "outputs": [
    {
     "name": "stdout",
     "output_type": "stream",
     "text": [
      "\n",
      "The total number of individuals in the control group that converted is 17489.\n",
      "\n"
     ]
    }
   ],
   "source": [
    "# Calculates and displays the number of individuals \n",
    "# that converted in the control group.\n",
    "cont_conv = df2[((df2['group'] == 'control') & \n",
    "                 (df2['converted'] == 1))]\n",
    "\n",
    "cont_conv = cont_conv.count().mean().astype('int')\n",
    "\n",
    "print('\\nThe total number of individuals in the control '\n",
    "      'group that converted is ' + str(cont_conv) + '.\\n')"
   ]
  },
  {
   "cell_type": "code",
   "execution_count": 4544,
   "metadata": {},
   "outputs": [
    {
     "name": "stdout",
     "output_type": "stream",
     "text": [
      "\n",
      "The total number of individuals in the treatment group that converted is 17264.\n",
      "\n"
     ]
    }
   ],
   "source": [
    "# Calculates and displays the number of individuals \n",
    "# that converted in the treatment group.\n",
    "treat_conv = df2[((df2['group'] == 'treatment') & \n",
    "                  (df2['converted'] == 1))]\n",
    "\n",
    "treat_conv = treat_conv.count().mean().astype('int')\n",
    "\n",
    "print('\\nThe total number of individuals in the treatment '\n",
    "      'group that converted is ' + str(treat_conv) + '.\\n')"
   ]
  },
  {
   "cell_type": "code",
   "execution_count": 4545,
   "metadata": {},
   "outputs": [
    {
     "name": "stdout",
     "output_type": "stream",
     "text": [
      "\n",
      "The probability that a user will convert in the control group is 12.039%.\n",
      "\n"
     ]
    }
   ],
   "source": [
    "# Calculates and displays the probability \n",
    "# that a user will convert in the control group.\n",
    "cont_conv_perc = (cont_conv / cont_len) \n",
    "\n",
    "print('\\nThe probability that a user will convert in the '\n",
    "      'control group is ' + str(round(cont_conv_perc * 100, 3)) + \n",
    "      perc_sym + '.\\n')"
   ]
  },
  {
   "cell_type": "code",
   "execution_count": 4546,
   "metadata": {
    "scrolled": true
   },
   "outputs": [
    {
     "name": "stdout",
     "output_type": "stream",
     "text": [
      "\n",
      "The probability that a user will convert in the treatment group is 11.881%.\n",
      "\n"
     ]
    }
   ],
   "source": [
    "# Calculates and displays the probability \n",
    "# that a user will convert in the treatment group.\n",
    "treat_conv_perc = (treat_conv / treat_len)\n",
    "\n",
    "print('\\nThe probability that a user will convert in the '\n",
    "      'treatment group is ' + str(round(treat_conv_perc  * 100, 3)) + \n",
    "      perc_sym + '.\\n')"
   ]
  },
  {
   "cell_type": "code",
   "execution_count": 4547,
   "metadata": {},
   "outputs": [
    {
     "name": "stdout",
     "output_type": "stream",
     "text": [
      "\n",
      "The probability that a user will convert, regardless of the page they receive is 11.966%.\n",
      "\n"
     ]
    }
   ],
   "source": [
    "# Displays the average of conversion rates\n",
    "# for the control and treatment groups pages.\n",
    "print('\\nThe probability that a user will convert, '\n",
    "      'regardless of the page they receive is ' +\n",
    "      str(round(conv_perc * 100, 3)) + perc_sym + '.\\n')"
   ]
  },
  {
   "cell_type": "code",
   "execution_count": 4548,
   "metadata": {},
   "outputs": [
    {
     "name": "stdout",
     "output_type": "stream",
     "text": [
      "\n",
      "The actual observed difference of conversion rates between the two groups is -0.158%.\n"
     ]
    }
   ],
   "source": [
    "# Calculates and displays the actual difference (obs_diff) \n",
    "# between the conversion rates for the two groups.\n",
    "obs_diff = (treat_conv_perc - cont_conv_perc)\n",
    "\n",
    "print('\\nThe actual observed difference of conversion rates '\n",
    "      'between the two groups is ' + \n",
    "      str(round(obs_diff  * 100, 3)) + perc_sym + '.')"
   ]
  },
  {
   "cell_type": "markdown",
   "metadata": {},
   "source": [
    "### The conversion rate of the old page (control) is approximately .158% higher than the new page (treatment). "
   ]
  },
  {
   "cell_type": "markdown",
   "metadata": {},
   "source": [
    "<a id='ab_test'></a>\n",
    "## Part II - AB Test\n",
    "\n",
    "### Null Hypothesis:"
   ]
  },
  {
   "cell_type": "markdown",
   "metadata": {},
   "source": [
    "### H0: Pnew ≤ Pold"
   ]
  },
  {
   "cell_type": "markdown",
   "metadata": {},
   "source": [
    "### H1: Pnew > Pold"
   ]
  },
  {
   "cell_type": "markdown",
   "metadata": {},
   "source": [
    "\n"
   ]
  },
  {
   "cell_type": "code",
   "execution_count": 4549,
   "metadata": {},
   "outputs": [
    {
     "name": "stdout",
     "output_type": "stream",
     "text": [
      "\n",
      "There are 145274 individuals in the control group.\n",
      "\n"
     ]
    }
   ],
   "source": [
    "# Creates a variable and displays the number \n",
    "# of individuals in the control group (Nold).\n",
    "n_old = cont_len\n",
    "\n",
    "print('\\nThere are', n_old, 'individuals in the control group.\\n')"
   ]
  },
  {
   "cell_type": "code",
   "execution_count": 4550,
   "metadata": {},
   "outputs": [
    {
     "name": "stdout",
     "output_type": "stream",
     "text": [
      "\n",
      "There are 145310 individuals in the treatment group.\n",
      "\n"
     ]
    }
   ],
   "source": [
    "# Creates a variable and displays the number \n",
    "# of individuals in the treatment group (Nnew)\n",
    "n_new = treat_len\n",
    "\n",
    "print('\\nThere are', n_new, 'individuals in the treatment group.\\n')"
   ]
  },
  {
   "cell_type": "code",
   "execution_count": 4551,
   "metadata": {},
   "outputs": [
    {
     "name": "stdout",
     "output_type": "stream",
     "text": [
      "\n",
      "The conversion rate for the control group, p_old, is 12.039%.\n",
      "\n"
     ]
    }
   ],
   "source": [
    "# Creates a variable and displays the conversion  \n",
    "# rate for Pnew = Pold (actual conversion).\n",
    "p_old = cont_conv_perc\n",
    "\n",
    "print('\\nThe conversion rate for the control group, ' \n",
    "      'p_old, is ' + str(round(p_old * 100, 3)) + \n",
    "      perc_sym + '.\\n')"
   ]
  },
  {
   "cell_type": "code",
   "execution_count": 4552,
   "metadata": {},
   "outputs": [
    {
     "name": "stdout",
     "output_type": "stream",
     "text": [
      "\n",
      "The conversion rate for the treatment group, p_new, is 12.039%.\n"
     ]
    }
   ],
   "source": [
    "# Creates a variable and displays the conversion  \n",
    "# rate for Pnew = Pold(actual conversion).\n",
    "p_new = cont_conv_perc\n",
    "\n",
    "print('\\nThe conversion rate for the treatment group, ' \n",
    "      'p_new, is ' + str(round(p_new * 100, 3)) + \n",
    "      perc_sym + '.')"
   ]
  },
  {
   "cell_type": "markdown",
   "metadata": {},
   "source": [
    "## Simulate Samples & Sample Distribution"
   ]
  },
  {
   "cell_type": "markdown",
   "metadata": {},
   "source": [
    "\n"
   ]
  },
  {
   "cell_type": "code",
   "execution_count": 4553,
   "metadata": {},
   "outputs": [
    {
     "name": "stdout",
     "output_type": "stream",
     "text": [
      "\n",
      "The simulated conversion rate for the treatment group, new page, is 12.084%.\n",
      "\n"
     ]
    }
   ],
   "source": [
    "# Simulates an average of probable converted values for the \n",
    "# treatment group and stores the result in a numpy array.\n",
    "new_page_conv = np.random.binomial(1, p_new, n_new).mean()\n",
    "\n",
    "print('\\nThe simulated conversion rate for the treatment group, '\n",
    "      'new page, is ' + str(round(new_page_conv * 100, 3)) + \n",
    "      perc_sym + '.\\n')"
   ]
  },
  {
   "cell_type": "code",
   "execution_count": 4554,
   "metadata": {},
   "outputs": [
    {
     "name": "stdout",
     "output_type": "stream",
     "text": [
      "\n",
      "The simulated conversion rate for the control group, old page, is 11.975%.\n",
      "\n"
     ]
    }
   ],
   "source": [
    "# Simulates an average of probable converted values for the \n",
    "# control group and stores the result in a numpy array.\n",
    "old_page_conv = np.random.binomial(1, p_old, n_old).mean()\n",
    "\n",
    "print('\\nThe simulated conversion rate for the control group, '\n",
    "      'old page, is ' + str(round(old_page_conv * 100, 3)) + \n",
    "      perc_sym + '.\\n')"
   ]
  },
  {
   "cell_type": "code",
   "execution_count": 4555,
   "metadata": {},
   "outputs": [
    {
     "name": "stdout",
     "output_type": "stream",
     "text": [
      "\n",
      "The difference in the simulated conversion rates between the 2 groups is 0.109%.\n",
      "\n"
     ]
    }
   ],
   "source": [
    "# Calculates and displays the difference between the \n",
    "# treatment (new_page) and control (old_page) groups.\n",
    "samp_diff = new_page_conv - old_page_conv\n",
    "\n",
    "print('\\nThe difference in the simulated conversion rates '\n",
    "      'between the 2 groups is ' + str(abs(round(samp_diff * 100, 3))) + \n",
    "      perc_sym + '.\\n')"
   ]
  },
  {
   "cell_type": "code",
   "execution_count": 4556,
   "metadata": {},
   "outputs": [
    {
     "name": "stdout",
     "output_type": "stream",
     "text": [
      "\n",
      "The average of simulated conversion rates, regardless of the page they received is 12.029%.\n",
      "\n"
     ]
    }
   ],
   "source": [
    "# Displays the average of conversion rates for\n",
    "# the simulated control and treatment groups pages.\n",
    "\n",
    "sim_pages_avg = ((old_page_conv + new_page_conv) / 2)\n",
    "\n",
    "print('\\nThe average of simulated conversion rates, '\n",
    "      'regardless of the page they received is ' +\n",
    "      str(round(sim_pages_avg * 100, 3)) + perc_sym + '.\\n')"
   ]
  },
  {
   "cell_type": "code",
   "execution_count": 4557,
   "metadata": {},
   "outputs": [
    {
     "name": "stdout",
     "output_type": "stream",
     "text": [
      "\n",
      "The list of 10,000 sampling probabilities has been created without error.\n",
      "\n"
     ]
    }
   ],
   "source": [
    "# Creates a list to store values in.\n",
    "p_diffs = np.random.binomial(n_old, p_old, 10000)/n_old - np.random.binomial(n_new, p_new, 10000)/n_new \n",
    "\n",
    "# Displays a verification of the list being \n",
    "# created or potential error.\n",
    "if len(p_diffs) == 10000:\n",
    "    print('\\nThe list of 10,000 sampling probabilities '\n",
    "          'has been created without error.\\n')\n",
    "\n",
    "else:\n",
    "    print('\\nThe list of 10,000 sampling probabilities '\n",
    "          'did not get created - there may be an error.\\n')"
   ]
  },
  {
   "cell_type": "code",
   "execution_count": 4558,
   "metadata": {},
   "outputs": [
    {
     "name": "stdout",
     "output_type": "stream",
     "text": [
      "\n",
      "[ 0.00088329 -0.00105773 -0.00038314 ...  0.00189515  0.00113104\n",
      " -0.00032087]\n"
     ]
    }
   ],
   "source": [
    "# Converts the p_diffs list to p_diffs NumPy array \n",
    "# and displays to verify.\n",
    "p_diffs = np.asarray(p_diffs)\n",
    "\n",
    "print('\\n' + str(p_diffs))"
   ]
  },
  {
   "cell_type": "markdown",
   "metadata": {},
   "source": [
    "### Histogram"
   ]
  },
  {
   "cell_type": "markdown",
   "metadata": {},
   "source": [
    "\n"
   ]
  },
  {
   "cell_type": "code",
   "execution_count": 4559,
   "metadata": {},
   "outputs": [
    {
     "data": {
      "text/plain": [
       "<matplotlib.legend.Legend at 0x2055f596350>"
      ]
     },
     "execution_count": 4559,
     "metadata": {},
     "output_type": "execute_result"
    },
    {
     "data": {
      "image/png": "[encoded data removed]",
      "text/plain": [
       "<Figure size 640x480 with 1 Axes>"
      ]
     },
     "metadata": {},
     "output_type": "display_data"
    }
   ],
   "source": [
    "# Creates a histogram of the p_diffs array data,\n",
    "# and adds a title as well as axes labels.\n",
    "plt.hist(p_diffs)\n",
    "plt.title('Differences in Probabilities - Mean of Error')\n",
    "plt.xlabel('Standard Error')\n",
    "plt.ylabel('Sample Count')\n",
    "\n",
    "# Plots a verticle line for the actual observed difference.\n",
    "plt.axvline(x = obs_diff, color = 'y', \n",
    "            label = 'Actual Observed Difference')\n",
    "\n",
    "# Create and place a legend outside for the \n",
    "# actual observed difference vertical line.\n",
    "plt.legend(bbox_to_anchor = (1, 1), loc = 'upper left')"
   ]
  },
  {
   "cell_type": "code",
   "execution_count": 4560,
   "metadata": {},
   "outputs": [
    {
     "data": {
      "text/plain": [
       "5.026356631709467e-06"
      ]
     },
     "execution_count": 4560,
     "metadata": {},
     "output_type": "execute_result"
    }
   ],
   "source": [
    "p_diffs.mean()"
   ]
  },
  {
   "cell_type": "code",
   "execution_count": 4561,
   "metadata": {},
   "outputs": [
    {
     "name": "stdout",
     "output_type": "stream",
     "text": [
      "\n",
      "The actual observed differences average is 0.1578%.\n",
      "\n",
      "\n",
      "The simulated differences average is 0.0005%.\n",
      "\n",
      "\n",
      "The p-value is 0.0787%.\n",
      "\n",
      "\n",
      "The simulated differences average is 0.1583% higher than the mean of actual observed differences.\n"
     ]
    }
   ],
   "source": [
    "# Creates variables to store calculations for \n",
    "# the conditional statement.\n",
    "obs_sim_diff1 = obs_diff.mean() - p_diffs.mean() \n",
    "obs_sim_diff2 = p_diffs.mean() - obs_diff.mean()\n",
    "\n",
    "p_val = ((p_diffs.mean() + obs_diff.mean()) / 2)\n",
    "\n",
    "print('\\nThe actual observed differences average is ' + \n",
    "      str(abs(round(obs_diff.mean() * 100, 4))) + perc_sym + '.\\n')\n",
    "\n",
    "print('\\nThe simulated differences average is ' + \n",
    "      str(abs(round(p_diffs.mean() * 100, 4))) + perc_sym + '.\\n')\n",
    "\n",
    "print('\\nThe p-value is ' + str(abs(round(p_val * 100, 4))) + \n",
    "      perc_sym + '.\\n')\n",
    "\n",
    "if obs_sim_diff1 > 0:\n",
    "    print('\\nThe actual observed differences average is ' \n",
    "          + str(abs(round(obs_sim_diff1 * 100, 4))) + perc_sym + \n",
    "          ' higher than the mean of simulated differences.')\n",
    "else:\n",
    "    print('\\nThe simulated differences average is ' \n",
    "          + str(abs(round(obs_sim_diff2 * 100, 4))) + perc_sym + \n",
    "          ' higher than the mean of actual observed differences.')"
   ]
  },
  {
   "cell_type": "markdown",
   "metadata": {},
   "source": [
    "### The initial p-value was calculated for the actual observed differences of probabilities and a z-score was created in a simulation which resulted in a second p-value having a difference of approximately .16%. "
   ]
  },
  {
   "cell_type": "markdown",
   "metadata": {},
   "source": [
    "\n"
   ]
  },
  {
   "cell_type": "code",
   "execution_count": 4562,
   "metadata": {},
   "outputs": [
    {
     "name": "stdout",
     "output_type": "stream",
     "text": [
      "\n",
      "The proportion of the sample probabilities differences that is greater than the actual differences observed is 0.9029.\n",
      "\n",
      "\n",
      "The proportion of the simulated mean of probabilities that is greater than the observed differences is 90.29%.\n"
     ]
    }
   ],
   "source": [
    "# Calculates and displays the proportion of the sample \n",
    "# probabilities differeneces averages (p_diffs) that \n",
    "# are greater than the actual observed differences average.\n",
    "p_val_dist = (p_diffs > obs_diff).mean()\n",
    "\n",
    "print('\\nThe proportion of the sample probabilities differences '\n",
    "      'that is greater than the actual differences observed is ' \n",
    "      + str(round(p_val_dist, 4)) + '.\\n')\n",
    "\n",
    "print('\\nThe proportion of the simulated mean of probabilities '\n",
    "      'that is greater than the observed differences is ' \n",
    "      + str(round(p_val_dist * 100, 3)) + perc_sym + '.')"
   ]
  },
  {
   "cell_type": "markdown",
   "metadata": {},
   "source": [
    "\n"
   ]
  },
  {
   "cell_type": "code",
   "execution_count": 4563,
   "metadata": {},
   "outputs": [
    {
     "name": "stdout",
     "output_type": "stream",
     "text": [
      "\n",
      "The p-value of -0.0008 is less than the Type I error rate of 0.05.\n",
      "\n",
      "\n",
      "The p-value of -0.08% is 5.08% lower than the Type I error rate of 5.0%.\n"
     ]
    }
   ],
   "source": [
    "# Creates and displays a variable that stores the result of a \n",
    "# Boolean expression, which compares if the proportional probabilities\n",
    "# differences value is greater than the Type I error rate of 0.05.\n",
    "err_rate = 0.05\n",
    "p_val_check = (p_val > err_rate)\n",
    "\n",
    "p_val_err1 = (p_val - err_rate)\n",
    "p_val_err2 = (err_rate - p_val)\n",
    "\n",
    "# Conditional statement to display the results and statemnets.\n",
    "if p_val_check == True:\n",
    "    \n",
    "    print('\\nThe p-value of ' + str(round(p_val, 4)) + ' is greater than'\n",
    "          ' the Type I error rate of ' + str(err_rate) + '.\\n')\n",
    "    \n",
    "    print('\\nThe p-value of ' + str(round(p_val * 100, 2)) + perc_sym +\n",
    "        ' is ' +  str(round((p_val_err1 * 100), 2)) + \n",
    "        perc_sym +' higher than the Type I error rate of ' +\n",
    "        str(err_rate * 100) + perc_sym + '.')\n",
    "\n",
    "else:\n",
    "    \n",
    "    print('\\nThe p-value of ' + str(round(p_val, 4)) + ' is less than'\n",
    "          ' the Type I error rate of ' + str(err_rate) + '.\\n')\n",
    "    \n",
    "    print('\\nThe p-value of ' + str(round(p_val * 100, 2)) + perc_sym +\n",
    "        ' is ' +  str(round((p_val_err2 * 100), 2)) + \n",
    "        perc_sym +' lower than the Type I error rate of ' + \n",
    "        str(err_rate * 100) + perc_sym + '.')"
   ]
  },
  {
   "cell_type": "markdown",
   "metadata": {},
   "source": [
    "### There is insufficient data to reject the null based upon the negligible differences. "
   ]
  },
  {
   "cell_type": "markdown",
   "metadata": {},
   "source": [
    "\n"
   ]
  },
  {
   "cell_type": "code",
   "execution_count": 4564,
   "metadata": {},
   "outputs": [],
   "source": [
    "# The number of conversions with the old_page (control).\n",
    "convert_old = cont_conv\n",
    "\n",
    "# The number of conversions with the new_page (treatment).\n",
    "convert_new = treat_conv\n",
    "\n",
    "# The number of individuals who were shown the old_page (control).\n",
    "n_old = cont_len\n",
    "\n",
    "# The number of individuals who received new_page (treatment).\n",
    "n_new = treat_len"
   ]
  },
  {
   "cell_type": "code",
   "execution_count": 4565,
   "metadata": {},
   "outputs": [
    {
     "name": "stdout",
     "output_type": "stream",
     "text": [
      "\n",
      "The z-score is -1.311.\n",
      "\n",
      "The p-value is 0.0949%.\n"
     ]
    }
   ],
   "source": [
    "# Performing a z-test to calculate the z-score and p-value, \n",
    "# as well as store the results in the variables.\n",
    "z_score, p_val2 = sm.stats.proportions_ztest(\n",
    "    [convert_new, convert_old], [n_new, n_old], \n",
    "    alternative = 'smaller')\n",
    "\n",
    "# Displays the z-score and p-value aesthetically.\n",
    "print('\\nThe z-score is ' + str(round(z_score, 3)) + '.\\n')\n",
    "print('The p-value is ' + str(round(p_val2, 4)) + perc_sym + '.')"
   ]
  },
  {
   "cell_type": "markdown",
   "metadata": {},
   "source": [
    "## Two-Sample z-test\n",
    "\n",
    "### Null Hypothesis:"
   ]
  },
  {
   "cell_type": "markdown",
   "metadata": {},
   "source": [
    "### H1: Pnew ≤ Pold"
   ]
  },
  {
   "cell_type": "markdown",
   "metadata": {},
   "source": [
    "### H1: Pnew > Pold"
   ]
  },
  {
   "cell_type": "markdown",
   "metadata": {},
   "source": [
    "\n"
   ]
  },
  {
   "cell_type": "code",
   "execution_count": 4566,
   "metadata": {},
   "outputs": [
    {
     "name": "stdout",
     "output_type": "stream",
     "text": [
      "\n",
      "The z-score is 1.311 standard deviations below the mean.\n",
      "\n",
      "\n",
      "The p-value of 0.0949 is greater than the Type I error rate of 0.05.\n",
      "\n",
      "\n",
      "The average percentage of sample differences of 9.49% is 4.49% higher than the Type I error rate of 5.0%.\n",
      "\n"
     ]
    }
   ],
   "source": [
    "# Creates and displays a variable that stores the result of a \n",
    "# Boolean expression, which compares if the proportional probabilities\n",
    "# differences value is greater than the Type I error rate of 0.05.\n",
    "p_val_check2 = (p_val2 > 0.05)\n",
    "\n",
    "# Calculations for display in conditional statement.\n",
    "p_val_err1 = (p_val2 - err_rate)\n",
    "p_val_err2 = (err_rate - p_val2)\n",
    "\n",
    "# Conditional statements to display the results and statements.\n",
    "if p_val_check2 == True:\n",
    "        \n",
    "    if z_score > 0:\n",
    "    \n",
    "        print('\\nThe z-score is ' + str(round(z_score, 3)) + \n",
    "          ' standard deviations above the mean.\\n')\n",
    "\n",
    "        print('\\nThe p-value of ' + str(round(p_val2, 4)) + ' is greater than'\n",
    "              ' the Type I error rate of ' + str(err_rate) + '.\\n')\n",
    "\n",
    "        print('\\nThe average percentage of sample differences of ' + \n",
    "            str(round(p_val2 * 100, 2)) + perc_sym +\n",
    "            ' is ' +  str(round((p_val_err1 * 100), 2)) + \n",
    "            perc_sym +' higher than the Type I error rate of ' +\n",
    "            str(err_rate * 100) + perc_sym + '.\\n')\n",
    "    \n",
    "    else:\n",
    "\n",
    "        print('\\nThe z-score is ' + str(abs(round(z_score, 3))) + \n",
    "          ' standard deviations below the mean.\\n')\n",
    "\n",
    "        print('\\nThe p-value of ' + str(round(p_val2, 4)) + ' is greater than'\n",
    "              ' the Type I error rate of ' + str(err_rate) + '.\\n')\n",
    "\n",
    "        print('\\nThe average percentage of sample differences of ' + \n",
    "            str(round(p_val2 * 100, 2)) + perc_sym +\n",
    "            ' is ' +  str(abs(round((p_val_err2 * 100), 2))) + \n",
    "            perc_sym +' higher than the Type I error rate of ' +\n",
    "            str(err_rate * 100) + perc_sym + '.\\n')\n",
    "        \n",
    "else:    \n",
    "\n",
    "    if z_score > 0:\n",
    "    \n",
    "        print('\\nThe z-score is ' + str(round(z_score, 3)) + \n",
    "             ' standard deviations above the mean.\\n')\n",
    "\n",
    "        print('\\nThe p-value of ' + str(round(p_val2, 4)) + ' is less than'\n",
    "            ' the Type I error rate of ' + str(err_rate) + '.\\n')\n",
    "\n",
    "        print('\\nThe average percentage of sample differences of ' + \n",
    "            str(round(p_val2 * 100, 2)) + perc_sym +\n",
    "            ' is ' +  str(abs(round((p_val_err1 * 100), 2))) + \n",
    "            perc_sym +' higher than the Type I error rate of ' +\n",
    "            str(err_rate * 100) + perc_sym + '.\\n')\n",
    "    \n",
    "    else:\n",
    "\n",
    "        print('\\nThe z-score is ' + str(abs(round(z_score, 3))) + \n",
    "            ' standard deviations below the mean.\\n')\n",
    "\n",
    "        print('\\nThe p-value of ' + str(round(p_val2, 4)) + ' is less than'\n",
    "             ' the Type I error rate of ' + str(err_rate) + '.\\n')\n",
    "\n",
    "        print('\\nThe average percentage of sample differences of ' + \n",
    "            str(round(p_val2 * 100, 2)) + perc_sym +\n",
    "            ' is ' +  str(round((p_val_err2 * 100), 2)) + \n",
    "            perc_sym +' lower than the Type I error rate of ' +\n",
    "            str(err_rate * 100) + perc_sym + '.\\n')"
   ]
  },
  {
   "cell_type": "code",
   "execution_count": 4567,
   "metadata": {},
   "outputs": [
    {
     "name": "stdout",
     "output_type": "stream",
     "text": [
      "\n",
      "The actual observed p-value is -0.0008 and the simulated sampling p-value is 0.0949.\n",
      "\n",
      "\n",
      "The observed p-value is -0.08% and the simulated sample p-value is 9.49%.\n",
      "\n",
      "\n",
      "The simulated sample p-value is 9.57% higher than the actual observed p-value.\n"
     ]
    }
   ],
   "source": [
    "# Displays statistics and observation.\n",
    "print('\\nThe actual observed p-value is ' + \n",
    "      str(round(p_val, 4)) + ' and the simulated ' +\n",
    "      'sampling p-value is ' + str(round(p_val2, 4)) + '.\\n')\n",
    "\n",
    "print('\\nThe observed p-value is ' + str(round(p_val * 100, 2)) \n",
    "      + perc_sym + ' and the simulated sample p-value is ' + \n",
    "      str(round(p_val2 * 100, 2)) + perc_sym +'.\\n')\n",
    "\n",
    "# Conditional statement to display the correct information, \n",
    "# based upon variables.\n",
    "if p_val > p_val2:\n",
    "\n",
    "    print('\\nThe observed p-value is ' + \n",
    "      str(round((p_val - p_val2) * 100, 2)) + perc_sym + \n",
    "      ' higher than the simulated sample p-value.')\n",
    "\n",
    "else:\n",
    "    print('\\nThe simulated sample p-value is ' + \n",
    "      str(round((p_val2 - p_val) * 100, 2)) + perc_sym + \n",
    "      ' higher than the actual observed p-value.')"
   ]
  },
  {
   "cell_type": "markdown",
   "metadata": {},
   "source": [
    "### The simulated p-value is approximately 4% higher than the Type I error rate."
   ]
  },
  {
   "cell_type": "markdown",
   "metadata": {},
   "source": [
    "\n"
   ]
  },
  {
   "cell_type": "code",
   "execution_count": 4568,
   "metadata": {},
   "outputs": [
    {
     "name": "stdout",
     "output_type": "stream",
     "text": [
      "\n",
      "A one-tailed (right-tailed) test was performed.\n",
      "\n",
      "\n",
      "For a right-tailed test, reject the null if z-score > z-alpha.\n",
      "\n",
      "\n",
      "The z-score is -1.311 and the z-alpha is 1.645.\n",
      "\n",
      "\n",
      "The statement \"reject the null if z-score > z-alpha\" is False.\n",
      "\n",
      "\n",
      "The z-score is 2.956 lower than the z-alpha.\n",
      "\n",
      "\n",
      "The test fails to reject the null because the z-score is 2.956 lower than the z-alpha.\n"
     ]
    }
   ],
   "source": [
    "# Creates variables for the confidence \n",
    "# interval at 95% for comparison.\n",
    "z_alpha = 1.645\n",
    "z_comp = z_score > z_alpha\n",
    "\n",
    "# Displays data.\n",
    "print('\\nA one-tailed (right-tailed) test was performed.\\n')\n",
    "\n",
    "print('\\nFor a right-tailed test, reject the null if z-score > z-alpha.\\n')\n",
    "\n",
    "print('\\nThe z-score is ' + str(round(z_score, 3)) + ' and the z-alpha is ' +\n",
    "     str(round(z_alpha, 3)) + '.\\n')\n",
    "\n",
    "# Conditional statement to display the correct data.\n",
    "if z_score > z_alpha:\n",
    "    \n",
    "    print('\\nThe statement \"reject the null if z-score > z-alpha\" is ' \n",
    "        + str(z_comp) + '.\\n' )\n",
    "    \n",
    "    print('\\nThe z-score is ' + str(round((z_score - z_alpha), 3)) + \n",
    "        ' higher than the z-alpha.\\n\\n' +     \n",
    "        '\\nThe test rejects the null because the z-score is ' + \n",
    "            str(abs(round((z_alpha - z_score), 3))) + ' higher than the z-alpha.')    \n",
    "\n",
    "else:\n",
    "    print('\\nThe statement \"reject the null if z-score > z-alpha\" is ' \n",
    "        + str(z_comp) + '.\\n' )\n",
    "    \n",
    "    print('\\nThe z-score is ' + str(round((z_alpha - z_score), 3)) + \n",
    "        ' lower than the z-alpha.\\n\\n' +     \n",
    "        '\\nThe test fails to reject the null because the z-score is ' + \n",
    "            str(abs(round((z_alpha - z_score), 3))) + ' lower than the z-alpha.')"
   ]
  },
  {
   "cell_type": "markdown",
   "metadata": {},
   "source": [
    "### There is not enough discernible data to make an informed decision based upon the difference. Other factors may help define a variance to decide whether to continue utilizing the old page or implement the new page. "
   ]
  },
  {
   "cell_type": "markdown",
   "metadata": {},
   "source": [
    "### The test fails to reject the null because the z-score is lower than the z-alpha."
   ]
  },
  {
   "cell_type": "markdown",
   "metadata": {},
   "source": [
    "<a id='regression'></a>\n",
    "## Part III - Regression\n",
    "\n",
    "## Logistic Regression: "
   ]
  },
  {
   "cell_type": "markdown",
   "metadata": {},
   "source": [
    "### A logistic regression model will be utilized to analyze the statistics that include the additional binary data."
   ]
  },
  {
   "cell_type": "markdown",
   "metadata": {},
   "source": [
    "\n"
   ]
  },
  {
   "cell_type": "code",
   "execution_count": 4569,
   "metadata": {},
   "outputs": [
    {
     "name": "stdout",
     "output_type": "stream",
     "text": [
      "\n",
      "\n",
      "The \"intercept\" & \"ab_page\" columns have been added to the dataframe.\n",
      "\n"
     ]
    },
    {
     "data": {
      "text/html": [
       "<div>\n",
       "<style scoped>\n",
       "    .dataframe tbody tr th:only-of-type {\n",
       "        vertical-align: middle;\n",
       "    }\n",
       "\n",
       "    .dataframe tbody tr th {\n",
       "        vertical-align: top;\n",
       "    }\n",
       "\n",
       "    .dataframe thead th {\n",
       "        text-align: right;\n",
       "    }\n",
       "</style>\n",
       "<table border=\"1\" class=\"dataframe\">\n",
       "  <thead>\n",
       "    <tr style=\"text-align: right;\">\n",
       "      <th></th>\n",
       "      <th>user_id</th>\n",
       "      <th>timestamp</th>\n",
       "      <th>group</th>\n",
       "      <th>landing_page</th>\n",
       "      <th>converted</th>\n",
       "      <th>intercept</th>\n",
       "      <th>ab_page</th>\n",
       "    </tr>\n",
       "  </thead>\n",
       "  <tbody>\n",
       "    <tr>\n",
       "      <th>0</th>\n",
       "      <td>851104</td>\n",
       "      <td>2017-01-21 22:11:48.556739</td>\n",
       "      <td>control</td>\n",
       "      <td>old_page</td>\n",
       "      <td>0</td>\n",
       "      <td>1</td>\n",
       "      <td>0</td>\n",
       "    </tr>\n",
       "    <tr>\n",
       "      <th>1</th>\n",
       "      <td>804228</td>\n",
       "      <td>2017-01-12 08:01:45.159739</td>\n",
       "      <td>control</td>\n",
       "      <td>old_page</td>\n",
       "      <td>0</td>\n",
       "      <td>1</td>\n",
       "      <td>0</td>\n",
       "    </tr>\n",
       "    <tr>\n",
       "      <th>2</th>\n",
       "      <td>661590</td>\n",
       "      <td>2017-01-11 16:55:06.154213</td>\n",
       "      <td>treatment</td>\n",
       "      <td>new_page</td>\n",
       "      <td>0</td>\n",
       "      <td>1</td>\n",
       "      <td>1</td>\n",
       "    </tr>\n",
       "  </tbody>\n",
       "</table>\n",
       "</div>"
      ],
      "text/plain": [
       "   user_id                   timestamp      group landing_page  converted  \\\n",
       "0   851104  2017-01-21 22:11:48.556739    control     old_page          0   \n",
       "1   804228  2017-01-12 08:01:45.159739    control     old_page          0   \n",
       "2   661590  2017-01-11 16:55:06.154213  treatment     new_page          0   \n",
       "\n",
       "   intercept  ab_page  \n",
       "0          1        0  \n",
       "1          1        0  \n",
       "2          1        1  "
      ]
     },
     "execution_count": 4569,
     "metadata": {},
     "output_type": "execute_result"
    }
   ],
   "source": [
    "# Creates a new column for the intercept, with a value of 1.\n",
    "df2['intercept'] = 1\n",
    "\n",
    "# Creates a dummy variable column - ab_page.\n",
    "df2['ab_page'] = pd.get_dummies(df2['group'])['treatment']\n",
    "\n",
    "print('\\n\\nThe \"intercept\" & \"ab_page\" columns have '\n",
    "      'been added to the dataframe.\\n')\n",
    "\n",
    "# Displays the first 3 rows.\n",
    "df2.head(3)"
   ]
  },
  {
   "cell_type": "markdown",
   "metadata": {},
   "source": [
    "### Displays the first 3 lines of the dataframe with the 2 new columns."
   ]
  },
  {
   "cell_type": "markdown",
   "metadata": {},
   "source": [
    "\n"
   ]
  },
  {
   "cell_type": "code",
   "execution_count": 4570,
   "metadata": {},
   "outputs": [
    {
     "data": {
      "text/html": [
       "<div>\n",
       "<style scoped>\n",
       "    .dataframe tbody tr th:only-of-type {\n",
       "        vertical-align: middle;\n",
       "    }\n",
       "\n",
       "    .dataframe tbody tr th {\n",
       "        vertical-align: top;\n",
       "    }\n",
       "\n",
       "    .dataframe thead th {\n",
       "        text-align: right;\n",
       "    }\n",
       "</style>\n",
       "<table border=\"1\" class=\"dataframe\">\n",
       "  <thead>\n",
       "    <tr style=\"text-align: right;\">\n",
       "      <th></th>\n",
       "      <th>user_id</th>\n",
       "      <th>timestamp</th>\n",
       "      <th>landing_page</th>\n",
       "      <th>converted</th>\n",
       "      <th>intercept</th>\n",
       "      <th>ab_page</th>\n",
       "    </tr>\n",
       "  </thead>\n",
       "  <tbody>\n",
       "    <tr>\n",
       "      <th>0</th>\n",
       "      <td>851104</td>\n",
       "      <td>2017-01-21 22:11:48.556739</td>\n",
       "      <td>old_page</td>\n",
       "      <td>0</td>\n",
       "      <td>1</td>\n",
       "      <td>0</td>\n",
       "    </tr>\n",
       "    <tr>\n",
       "      <th>1</th>\n",
       "      <td>804228</td>\n",
       "      <td>2017-01-12 08:01:45.159739</td>\n",
       "      <td>old_page</td>\n",
       "      <td>0</td>\n",
       "      <td>1</td>\n",
       "      <td>0</td>\n",
       "    </tr>\n",
       "    <tr>\n",
       "      <th>2</th>\n",
       "      <td>661590</td>\n",
       "      <td>2017-01-11 16:55:06.154213</td>\n",
       "      <td>new_page</td>\n",
       "      <td>0</td>\n",
       "      <td>1</td>\n",
       "      <td>1</td>\n",
       "    </tr>\n",
       "  </tbody>\n",
       "</table>\n",
       "</div>"
      ],
      "text/plain": [
       "   user_id                   timestamp landing_page  converted  intercept  \\\n",
       "0   851104  2017-01-21 22:11:48.556739     old_page          0          1   \n",
       "1   804228  2017-01-12 08:01:45.159739     old_page          0          1   \n",
       "2   661590  2017-01-11 16:55:06.154213     new_page          0          1   \n",
       "\n",
       "   ab_page  \n",
       "0        0  \n",
       "1        0  \n",
       "2        1  "
      ]
     },
     "execution_count": 4570,
     "metadata": {},
     "output_type": "execute_result"
    }
   ],
   "source": [
    "# Drops the group column and displays\n",
    "# the first 3 rows of the dataframe.\n",
    "df2.drop(['group'], inplace = True, axis=1)\n",
    "\n",
    "df2.head(3)"
   ]
  },
  {
   "cell_type": "markdown",
   "metadata": {},
   "source": [
    "\n"
   ]
  },
  {
   "cell_type": "code",
   "execution_count": 4571,
   "metadata": {},
   "outputs": [
    {
     "name": "stdout",
     "output_type": "stream",
     "text": [
      "Optimization terminated successfully.\n",
      "         Current function value: 0.366118\n",
      "         Iterations 6\n"
     ]
    },
    {
     "data": {
      "text/html": [
       "<table class=\"simpletable\">\n",
       "<caption>Logit Regression Results</caption>\n",
       "<tr>\n",
       "  <th>Dep. Variable:</th>       <td>converted</td>    <th>  No. Observations:  </th>   <td>290584</td>   \n",
       "</tr>\n",
       "<tr>\n",
       "  <th>Model:</th>                 <td>Logit</td>      <th>  Df Residuals:      </th>   <td>290582</td>   \n",
       "</tr>\n",
       "<tr>\n",
       "  <th>Method:</th>                 <td>MLE</td>       <th>  Df Model:          </th>   <td>     1</td>   \n",
       "</tr>\n",
       "<tr>\n",
       "  <th>Date:</th>            <td>Wed, 03 May 2023</td> <th>  Pseudo R-squ.:     </th>  <td>8.077e-06</td> \n",
       "</tr>\n",
       "<tr>\n",
       "  <th>Time:</th>                <td>10:25:36</td>     <th>  Log-Likelihood:    </th> <td>-1.0639e+05</td>\n",
       "</tr>\n",
       "<tr>\n",
       "  <th>converged:</th>             <td>True</td>       <th>  LL-Null:           </th> <td>-1.0639e+05</td>\n",
       "</tr>\n",
       "<tr>\n",
       "  <th>Covariance Type:</th>     <td>nonrobust</td>    <th>  LLR p-value:       </th>   <td>0.1899</td>   \n",
       "</tr>\n",
       "</table>\n",
       "<table class=\"simpletable\">\n",
       "<tr>\n",
       "      <td></td>         <th>coef</th>     <th>std err</th>      <th>z</th>      <th>P>|z|</th>  <th>[0.025</th>    <th>0.975]</th>  \n",
       "</tr>\n",
       "<tr>\n",
       "  <th>intercept</th> <td>   -1.9888</td> <td>    0.008</td> <td> -246.669</td> <td> 0.000</td> <td>   -2.005</td> <td>   -1.973</td>\n",
       "</tr>\n",
       "<tr>\n",
       "  <th>ab_page</th>   <td>   -0.0150</td> <td>    0.011</td> <td>   -1.311</td> <td> 0.190</td> <td>   -0.037</td> <td>    0.007</td>\n",
       "</tr>\n",
       "</table>"
      ],
      "text/plain": [
       "<class 'statsmodels.iolib.summary.Summary'>\n",
       "\"\"\"\n",
       "                           Logit Regression Results                           \n",
       "==============================================================================\n",
       "Dep. Variable:              converted   No. Observations:               290584\n",
       "Model:                          Logit   Df Residuals:                   290582\n",
       "Method:                           MLE   Df Model:                            1\n",
       "Date:                Wed, 03 May 2023   Pseudo R-squ.:               8.077e-06\n",
       "Time:                        10:25:36   Log-Likelihood:            -1.0639e+05\n",
       "converged:                       True   LL-Null:                   -1.0639e+05\n",
       "Covariance Type:            nonrobust   LLR p-value:                    0.1899\n",
       "==============================================================================\n",
       "                 coef    std err          z      P>|z|      [0.025      0.975]\n",
       "------------------------------------------------------------------------------\n",
       "intercept     -1.9888      0.008   -246.669      0.000      -2.005      -1.973\n",
       "ab_page       -0.0150      0.011     -1.311      0.190      -0.037       0.007\n",
       "==============================================================================\n",
       "\"\"\""
      ]
     },
     "execution_count": 4571,
     "metadata": {},
     "output_type": "execute_result"
    }
   ],
   "source": [
    "# The statsmodels function instantiates a logistical regression  \n",
    "# model and stores the results in the reg_model logit object.\n",
    "reg_model = sm.Logit(df2['converted'], \n",
    "                     df2[['intercept', 'ab_page']])\n",
    "\n",
    "# Creates a table of statistics from the model data.\n",
    "temp_rslt = reg_model.fit()\n",
    "\n",
    "# Displays the table.\n",
    "temp_rslt.summary()"
   ]
  },
  {
   "cell_type": "markdown",
   "metadata": {},
   "source": [
    "### An instance of the regression model displaying various statistics - the p-value is .190."
   ]
  },
  {
   "cell_type": "markdown",
   "metadata": {},
   "source": [
    "\n"
   ]
  },
  {
   "cell_type": "code",
   "execution_count": 4572,
   "metadata": {},
   "outputs": [
    {
     "name": "stdout",
     "output_type": "stream",
     "text": [
      "\n",
      "The logistic regression model p-value of 19.0% is 14.0% higher than the error rate of 5.0%.\n",
      "\n",
      "\n",
      "The logistic regression model p-value of 19.0% is 19.08% higher than the observed p-value of -0.08%.\n",
      "\n",
      "\n",
      "The logistic regression model p-value of 19.0% is 9.51% higher than the simulated p-value of 9.49%.\n"
     ]
    }
   ],
   "source": [
    "# Creates a variable to compare the p-values from the \n",
    "# regression model to the observed and simulated p-values.\n",
    "p_val_reg = .190\n",
    "\n",
    "if p_val_reg > err_rate:\n",
    "\n",
    "    print('\\nThe logistic regression model p-value of ' + \n",
    "        str(round(p_val_reg * 100, 2)) + perc_sym + \n",
    "        ' is ' + str(abs(round(((p_val_reg * 100) - (err_rate * 100)), 2))) \n",
    "        + perc_sym + ' higher than the error rate of '+\n",
    "        str(round(err_rate * 100, 2)) + perc_sym  + '.\\n')\n",
    "\n",
    "else:\n",
    "\n",
    "    print('\\nThe logistic regression model p-value of ' + \n",
    "        str(round(p_val_reg * 100, 2)) + perc_sym + \n",
    "        ' is ' + str(abs(round(((err_rate * 100) - (p_val_reg * 100)), 2))) \n",
    "        + perc_sym + ' lower than the error rate of ' +\n",
    "        str(round(err_rate * 100, 2)) + perc_sym  + '.\\n')\n",
    "\n",
    "if p_val_reg > p_val:\n",
    "\n",
    "    print('\\nThe logistic regression model p-value of ' + \n",
    "        str(round(p_val_reg * 100, 2)) + perc_sym + \n",
    "        ' is ' + str(abs(round(((p_val_reg * 100) - (p_val * 100)), 2))) \n",
    "        + perc_sym + ' higher than the observed p-value of ' + \n",
    "        str(round(p_val * 100, 2)) + perc_sym  + '.\\n')    \n",
    "\n",
    "else:\n",
    "\n",
    "    print('\\nThe logistic regression model p-value of ' + \n",
    "        str(round(p_val_reg * 100, 2)) + perc_sym + \n",
    "        ' is ' + str(abs(round(((p_val_reg * 100) - (p_val * 100)), 2))) \n",
    "        + perc_sym + ' lower than the observed p-value of ' +\n",
    "        str(round(p_val * 100, 2)) + perc_sym  + '.\\n')\n",
    "    \n",
    "if p_val_reg > p_val2:\n",
    "\n",
    "    print('\\nThe logistic regression model p-value of ' + \n",
    "        str(round(p_val_reg * 100, 2)) + perc_sym + \n",
    "        ' is ' + str(abs(round(((p_val_reg * 100) - (p_val2 * 100)), 2))) \n",
    "        + perc_sym + ' higher than the simulated p-value of ' +\n",
    "        str(round(p_val2 * 100, 2)) + perc_sym  + '.')    \n",
    "\n",
    "else:\n",
    "\n",
    "    print('\\nThe logistic regression model p-value of ' + \n",
    "        str(round(p_val_reg * 100, 2)) + perc_sym + \n",
    "        ' is ' + str(abs(round(((p_val_reg * 100) - (p_val2 * 100)), 2))) \n",
    "        + perc_sym + ' lower than the simulated p-value of ' +\n",
    "        str(round(p_val2 * 100, 2)) + perc_sym  + '.')"
   ]
  },
  {
   "cell_type": "markdown",
   "metadata": {},
   "source": [
    "### The model p-value is greater than the simulated p-value because the model is one-tailed (comparative)."
   ]
  },
  {
   "cell_type": "markdown",
   "metadata": {},
   "source": [
    "#### ------------------------------------------------------------------------------------------------------------------------------------------------------------------------------------------------------------------"
   ]
  },
  {
   "cell_type": "markdown",
   "metadata": {},
   "source": [
    "### It may be advantageous to include additional factors to the model."
   ]
  },
  {
   "cell_type": "markdown",
   "metadata": {},
   "source": [
    "###  Adding countries to potentially discern greater differences."
   ]
  },
  {
   "cell_type": "markdown",
   "metadata": {},
   "source": [
    "\n"
   ]
  },
  {
   "cell_type": "code",
   "execution_count": 4573,
   "metadata": {},
   "outputs": [
    {
     "data": {
      "text/html": [
       "<div>\n",
       "<style scoped>\n",
       "    .dataframe tbody tr th:only-of-type {\n",
       "        vertical-align: middle;\n",
       "    }\n",
       "\n",
       "    .dataframe tbody tr th {\n",
       "        vertical-align: top;\n",
       "    }\n",
       "\n",
       "    .dataframe thead th {\n",
       "        text-align: right;\n",
       "    }\n",
       "</style>\n",
       "<table border=\"1\" class=\"dataframe\">\n",
       "  <thead>\n",
       "    <tr style=\"text-align: right;\">\n",
       "      <th></th>\n",
       "      <th>user_id</th>\n",
       "      <th>country</th>\n",
       "    </tr>\n",
       "  </thead>\n",
       "  <tbody>\n",
       "    <tr>\n",
       "      <th>0</th>\n",
       "      <td>834778</td>\n",
       "      <td>UK</td>\n",
       "    </tr>\n",
       "    <tr>\n",
       "      <th>1</th>\n",
       "      <td>928468</td>\n",
       "      <td>US</td>\n",
       "    </tr>\n",
       "    <tr>\n",
       "      <th>2</th>\n",
       "      <td>822059</td>\n",
       "      <td>UK</td>\n",
       "    </tr>\n",
       "  </tbody>\n",
       "</table>\n",
       "</div>"
      ],
      "text/plain": [
       "   user_id country\n",
       "0   834778      UK\n",
       "1   928468      US\n",
       "2   822059      UK"
      ]
     },
     "execution_count": 4573,
     "metadata": {},
     "output_type": "execute_result"
    }
   ],
   "source": [
    "# Read data in from the countries.csv file,\n",
    "# into a new dataframe (df3)..\n",
    "df3 = pd.read_csv('countries.csv')\n",
    "\n",
    "# Displays the first 3 rows.\n",
    "df3.head(3)"
   ]
  },
  {
   "cell_type": "markdown",
   "metadata": {},
   "source": [
    "### Displays the first 3 rows of dataframe created from 'countries.csv'."
   ]
  },
  {
   "cell_type": "markdown",
   "metadata": {},
   "source": [
    "\n"
   ]
  },
  {
   "cell_type": "code",
   "execution_count": 4574,
   "metadata": {},
   "outputs": [
    {
     "data": {
      "text/html": [
       "<div>\n",
       "<style scoped>\n",
       "    .dataframe tbody tr th:only-of-type {\n",
       "        vertical-align: middle;\n",
       "    }\n",
       "\n",
       "    .dataframe tbody tr th {\n",
       "        vertical-align: top;\n",
       "    }\n",
       "\n",
       "    .dataframe thead th {\n",
       "        text-align: right;\n",
       "    }\n",
       "</style>\n",
       "<table border=\"1\" class=\"dataframe\">\n",
       "  <thead>\n",
       "    <tr style=\"text-align: right;\">\n",
       "      <th></th>\n",
       "      <th>country</th>\n",
       "      <th>timestamp</th>\n",
       "      <th>landing_page</th>\n",
       "      <th>converted</th>\n",
       "      <th>intercept</th>\n",
       "      <th>ab_page</th>\n",
       "    </tr>\n",
       "    <tr>\n",
       "      <th>user_id</th>\n",
       "      <th></th>\n",
       "      <th></th>\n",
       "      <th></th>\n",
       "      <th></th>\n",
       "      <th></th>\n",
       "      <th></th>\n",
       "    </tr>\n",
       "  </thead>\n",
       "  <tbody>\n",
       "    <tr>\n",
       "      <th>834778</th>\n",
       "      <td>UK</td>\n",
       "      <td>2017-01-14 23:08:43.304998</td>\n",
       "      <td>old_page</td>\n",
       "      <td>0</td>\n",
       "      <td>1</td>\n",
       "      <td>0</td>\n",
       "    </tr>\n",
       "    <tr>\n",
       "      <th>928468</th>\n",
       "      <td>US</td>\n",
       "      <td>2017-01-23 14:44:16.387854</td>\n",
       "      <td>new_page</td>\n",
       "      <td>0</td>\n",
       "      <td>1</td>\n",
       "      <td>1</td>\n",
       "    </tr>\n",
       "    <tr>\n",
       "      <th>822059</th>\n",
       "      <td>UK</td>\n",
       "      <td>2017-01-16 14:04:14.719771</td>\n",
       "      <td>new_page</td>\n",
       "      <td>1</td>\n",
       "      <td>1</td>\n",
       "      <td>1</td>\n",
       "    </tr>\n",
       "  </tbody>\n",
       "</table>\n",
       "</div>"
      ],
      "text/plain": [
       "        country                   timestamp landing_page  converted  \\\n",
       "user_id                                                               \n",
       "834778       UK  2017-01-14 23:08:43.304998     old_page          0   \n",
       "928468       US  2017-01-23 14:44:16.387854     new_page          0   \n",
       "822059       UK  2017-01-16 14:04:14.719771     new_page          1   \n",
       "\n",
       "         intercept  ab_page  \n",
       "user_id                      \n",
       "834778           1        0  \n",
       "928468           1        1  \n",
       "822059           1        1  "
      ]
     },
     "execution_count": 4574,
     "metadata": {},
     "output_type": "execute_result"
    }
   ],
   "source": [
    "# Creates 3 new dataframes from a join of the df3 and df2 dataframes for 3 models to compare.\n",
    "df_merged = df3.set_index('user_id').join(df2.set_index('user_id'), how = 'inner').copy()\n",
    "df_merged2 = df3.set_index('user_id').join(df2.set_index('user_id'), how = 'inner').copy()\n",
    "df_merged3 = df3.set_index('user_id').join(df2.set_index('user_id'), how = 'inner').copy()\n",
    "\n",
    "# Displays the first 3 rows of the new joined dataframe.\n",
    "df_merged.head(3)"
   ]
  },
  {
   "cell_type": "markdown",
   "metadata": {},
   "source": [
    "### Displays the first 3 rows of the new joined dataframe."
   ]
  },
  {
   "cell_type": "markdown",
   "metadata": {},
   "source": [
    "\n"
   ]
  },
  {
   "cell_type": "code",
   "execution_count": 4575,
   "metadata": {},
   "outputs": [
    {
     "name": "stdout",
     "output_type": "stream",
     "text": [
      "\n",
      "There are 3 unique country values - ['UK' 'US' 'CA'].\n",
      "\n"
     ]
    }
   ],
   "source": [
    "# Verify the unique country values (3).\n",
    "print('\\nThere are ' + str(len(df3.country.unique())) + \n",
    "      ' unique country values - ' + str(df3.country.unique()) + '.\\n')"
   ]
  },
  {
   "cell_type": "code",
   "execution_count": 4576,
   "metadata": {},
   "outputs": [
    {
     "data": {
      "text/html": [
       "<div>\n",
       "<style scoped>\n",
       "    .dataframe tbody tr th:only-of-type {\n",
       "        vertical-align: middle;\n",
       "    }\n",
       "\n",
       "    .dataframe tbody tr th {\n",
       "        vertical-align: top;\n",
       "    }\n",
       "\n",
       "    .dataframe thead th {\n",
       "        text-align: right;\n",
       "    }\n",
       "</style>\n",
       "<table border=\"1\" class=\"dataframe\">\n",
       "  <thead>\n",
       "    <tr style=\"text-align: right;\">\n",
       "      <th></th>\n",
       "      <th>country</th>\n",
       "      <th>timestamp</th>\n",
       "      <th>landing_page</th>\n",
       "      <th>converted</th>\n",
       "      <th>intercept</th>\n",
       "      <th>ab_page</th>\n",
       "      <th>US</th>\n",
       "      <th>CA</th>\n",
       "      <th>UK</th>\n",
       "    </tr>\n",
       "    <tr>\n",
       "      <th>user_id</th>\n",
       "      <th></th>\n",
       "      <th></th>\n",
       "      <th></th>\n",
       "      <th></th>\n",
       "      <th></th>\n",
       "      <th></th>\n",
       "      <th></th>\n",
       "      <th></th>\n",
       "      <th></th>\n",
       "    </tr>\n",
       "  </thead>\n",
       "  <tbody>\n",
       "    <tr>\n",
       "      <th>834778</th>\n",
       "      <td>UK</td>\n",
       "      <td>2017-01-14 23:08:43.304998</td>\n",
       "      <td>old_page</td>\n",
       "      <td>0</td>\n",
       "      <td>1</td>\n",
       "      <td>0</td>\n",
       "      <td>0</td>\n",
       "      <td>0</td>\n",
       "      <td>1</td>\n",
       "    </tr>\n",
       "  </tbody>\n",
       "</table>\n",
       "</div>"
      ],
      "text/plain": [
       "        country                   timestamp landing_page  converted  \\\n",
       "user_id                                                               \n",
       "834778       UK  2017-01-14 23:08:43.304998     old_page          0   \n",
       "\n",
       "         intercept  ab_page  US  CA  UK  \n",
       "user_id                                  \n",
       "834778           1        0   0   0   1  "
      ]
     },
     "execution_count": 4576,
     "metadata": {},
     "output_type": "execute_result"
    }
   ],
   "source": [
    "# Creates dummy variable columns (for 3 dataframes) from the country column and displays.\n",
    "df_merged[['US', 'CA', 'UK']] = pd.get_dummies(df_merged['country'])[['US', 'CA', 'UK']]\n",
    "df_merged2[['US', 'CA', 'UK']] = pd.get_dummies(df_merged['country'])[['US', 'CA', 'UK']]\n",
    "df_merged3[['US', 'CA', 'UK']] = pd.get_dummies(df_merged['country'])[['US', 'CA', 'UK']]\n",
    "\n",
    "df_merged.head(1)"
   ]
  },
  {
   "cell_type": "markdown",
   "metadata": {},
   "source": [
    "### Displays the df_merged dataframe with 3 new dummy variable columns."
   ]
  },
  {
   "cell_type": "markdown",
   "metadata": {},
   "source": [
    "\n"
   ]
  },
  {
   "cell_type": "code",
   "execution_count": 4577,
   "metadata": {},
   "outputs": [
    {
     "data": {
      "text/html": [
       "<div>\n",
       "<style scoped>\n",
       "    .dataframe tbody tr th:only-of-type {\n",
       "        vertical-align: middle;\n",
       "    }\n",
       "\n",
       "    .dataframe tbody tr th {\n",
       "        vertical-align: top;\n",
       "    }\n",
       "\n",
       "    .dataframe thead th {\n",
       "        text-align: right;\n",
       "    }\n",
       "</style>\n",
       "<table border=\"1\" class=\"dataframe\">\n",
       "  <thead>\n",
       "    <tr style=\"text-align: right;\">\n",
       "      <th></th>\n",
       "      <th>country</th>\n",
       "      <th>timestamp</th>\n",
       "      <th>landing_page</th>\n",
       "      <th>converted</th>\n",
       "      <th>intercept</th>\n",
       "      <th>ab_page</th>\n",
       "      <th>US</th>\n",
       "      <th>CA</th>\n",
       "      <th>UK</th>\n",
       "    </tr>\n",
       "    <tr>\n",
       "      <th>user_id</th>\n",
       "      <th></th>\n",
       "      <th></th>\n",
       "      <th></th>\n",
       "      <th></th>\n",
       "      <th></th>\n",
       "      <th></th>\n",
       "      <th></th>\n",
       "      <th></th>\n",
       "      <th></th>\n",
       "    </tr>\n",
       "  </thead>\n",
       "  <tbody>\n",
       "    <tr>\n",
       "      <th>834778</th>\n",
       "      <td>UK</td>\n",
       "      <td>2017-01-14 23:08:43.304998</td>\n",
       "      <td>old_page</td>\n",
       "      <td>0</td>\n",
       "      <td>1</td>\n",
       "      <td>0</td>\n",
       "      <td>0</td>\n",
       "      <td>0</td>\n",
       "      <td>1</td>\n",
       "    </tr>\n",
       "  </tbody>\n",
       "</table>\n",
       "</div>"
      ],
      "text/plain": [
       "        country                   timestamp landing_page  converted  \\\n",
       "user_id                                                               \n",
       "834778       UK  2017-01-14 23:08:43.304998     old_page          0   \n",
       "\n",
       "         intercept  ab_page  US  CA  UK  \n",
       "user_id                                  \n",
       "834778           1        0   0   0   1  "
      ]
     },
     "execution_count": 4577,
     "metadata": {},
     "output_type": "execute_result"
    }
   ],
   "source": [
    "# Displays to verify the dataframe was created.\n",
    "df_merged2.head(1)"
   ]
  },
  {
   "cell_type": "markdown",
   "metadata": {},
   "source": [
    "### Displays the df_merged2 dataframe with 3 new dummy variable columns."
   ]
  },
  {
   "cell_type": "markdown",
   "metadata": {},
   "source": [
    "\n"
   ]
  },
  {
   "cell_type": "code",
   "execution_count": 4578,
   "metadata": {},
   "outputs": [
    {
     "data": {
      "text/html": [
       "<div>\n",
       "<style scoped>\n",
       "    .dataframe tbody tr th:only-of-type {\n",
       "        vertical-align: middle;\n",
       "    }\n",
       "\n",
       "    .dataframe tbody tr th {\n",
       "        vertical-align: top;\n",
       "    }\n",
       "\n",
       "    .dataframe thead th {\n",
       "        text-align: right;\n",
       "    }\n",
       "</style>\n",
       "<table border=\"1\" class=\"dataframe\">\n",
       "  <thead>\n",
       "    <tr style=\"text-align: right;\">\n",
       "      <th></th>\n",
       "      <th>country</th>\n",
       "      <th>timestamp</th>\n",
       "      <th>landing_page</th>\n",
       "      <th>converted</th>\n",
       "      <th>intercept</th>\n",
       "      <th>ab_page</th>\n",
       "      <th>US</th>\n",
       "      <th>CA</th>\n",
       "      <th>UK</th>\n",
       "    </tr>\n",
       "    <tr>\n",
       "      <th>user_id</th>\n",
       "      <th></th>\n",
       "      <th></th>\n",
       "      <th></th>\n",
       "      <th></th>\n",
       "      <th></th>\n",
       "      <th></th>\n",
       "      <th></th>\n",
       "      <th></th>\n",
       "      <th></th>\n",
       "    </tr>\n",
       "  </thead>\n",
       "  <tbody>\n",
       "    <tr>\n",
       "      <th>834778</th>\n",
       "      <td>UK</td>\n",
       "      <td>2017-01-14 23:08:43.304998</td>\n",
       "      <td>old_page</td>\n",
       "      <td>0</td>\n",
       "      <td>1</td>\n",
       "      <td>0</td>\n",
       "      <td>0</td>\n",
       "      <td>0</td>\n",
       "      <td>1</td>\n",
       "    </tr>\n",
       "  </tbody>\n",
       "</table>\n",
       "</div>"
      ],
      "text/plain": [
       "        country                   timestamp landing_page  converted  \\\n",
       "user_id                                                               \n",
       "834778       UK  2017-01-14 23:08:43.304998     old_page          0   \n",
       "\n",
       "         intercept  ab_page  US  CA  UK  \n",
       "user_id                                  \n",
       "834778           1        0   0   0   1  "
      ]
     },
     "execution_count": 4578,
     "metadata": {},
     "output_type": "execute_result"
    }
   ],
   "source": [
    "# Displays to verify the dataframe was created.\n",
    "df_merged3.head(1)"
   ]
  },
  {
   "cell_type": "markdown",
   "metadata": {},
   "source": [
    "### Displays the df_merged3 dataframe with 3 new dummy variable columns."
   ]
  },
  {
   "cell_type": "markdown",
   "metadata": {},
   "source": [
    "## Fit the Models for Comparison."
   ]
  },
  {
   "cell_type": "markdown",
   "metadata": {},
   "source": [
    "\n"
   ]
  },
  {
   "cell_type": "code",
   "execution_count": 4579,
   "metadata": {},
   "outputs": [],
   "source": [
    "# Creates dummy variable columns with the calculation \n",
    "# from the columns for display in a regression model.\n",
    "df_merged['US_page'] = df_merged['US'] * df_merged['ab_page'].copy()\n",
    "df_merged['CA_page'] = df_merged['CA'] * df_merged['ab_page'].copy()"
   ]
  },
  {
   "cell_type": "code",
   "execution_count": 4580,
   "metadata": {},
   "outputs": [],
   "source": [
    "# Creates dummy variable columns with the calculation \n",
    "# from the columns for display in a 2nd regression model.\n",
    "df_merged2['US_page'] = df_merged['US'] * df_merged['ab_page'].copy()\n",
    "df_merged2['UK_page'] = df_merged['UK'] * df_merged['ab_page'].copy()"
   ]
  },
  {
   "cell_type": "code",
   "execution_count": 4581,
   "metadata": {},
   "outputs": [],
   "source": [
    "# Creates dummy variable columns with the calculation \n",
    "# from the columns for display in a 3rd regression model.\n",
    "df_merged3['UK_page'] = df_merged['UK'] * df_merged['ab_page'].copy()\n",
    "df_merged3['CA_page'] = df_merged['CA'] * df_merged['ab_page'].copy()"
   ]
  },
  {
   "cell_type": "code",
   "execution_count": 4582,
   "metadata": {},
   "outputs": [],
   "source": [
    "# Drop the 'country' & 'ab_page' columns \n",
    "# to avoid multicollinearity in the model.\n",
    "df_merged.drop(['country', 'ab_page'], \n",
    "               inplace = True, axis=1)"
   ]
  },
  {
   "cell_type": "code",
   "execution_count": 4583,
   "metadata": {},
   "outputs": [
    {
     "name": "stdout",
     "output_type": "stream",
     "text": [
      "Optimization terminated successfully.\n",
      "         Current function value: 0.366109\n",
      "         Iterations 6\n"
     ]
    },
    {
     "data": {
      "text/html": [
       "<table class=\"simpletable\">\n",
       "<caption>Logit Regression Results</caption>\n",
       "<tr>\n",
       "  <th>Dep. Variable:</th>       <td>converted</td>    <th>  No. Observations:  </th>   <td>290584</td>   \n",
       "</tr>\n",
       "<tr>\n",
       "  <th>Model:</th>                 <td>Logit</td>      <th>  Df Residuals:      </th>   <td>290581</td>   \n",
       "</tr>\n",
       "<tr>\n",
       "  <th>Method:</th>                 <td>MLE</td>       <th>  Df Model:          </th>   <td>     2</td>   \n",
       "</tr>\n",
       "<tr>\n",
       "  <th>Date:</th>            <td>Wed, 03 May 2023</td> <th>  Pseudo R-squ.:     </th>  <td>3.272e-05</td> \n",
       "</tr>\n",
       "<tr>\n",
       "  <th>Time:</th>                <td>10:25:44</td>     <th>  Log-Likelihood:    </th> <td>-1.0639e+05</td>\n",
       "</tr>\n",
       "<tr>\n",
       "  <th>converged:</th>             <td>True</td>       <th>  LL-Null:           </th> <td>-1.0639e+05</td>\n",
       "</tr>\n",
       "<tr>\n",
       "  <th>Covariance Type:</th>     <td>nonrobust</td>    <th>  LLR p-value:       </th>   <td>0.03077</td>  \n",
       "</tr>\n",
       "</table>\n",
       "<table class=\"simpletable\">\n",
       "<tr>\n",
       "      <td></td>         <th>coef</th>     <th>std err</th>      <th>z</th>      <th>P>|z|</th>  <th>[0.025</th>    <th>0.975]</th>  \n",
       "</tr>\n",
       "<tr>\n",
       "  <th>intercept</th> <td>   -1.9873</td> <td>    0.007</td> <td> -275.573</td> <td> 0.000</td> <td>   -2.001</td> <td>   -1.973</td>\n",
       "</tr>\n",
       "<tr>\n",
       "  <th>CA_page</th>   <td>   -0.0842</td> <td>    0.038</td> <td>   -2.225</td> <td> 0.026</td> <td>   -0.158</td> <td>   -0.010</td>\n",
       "</tr>\n",
       "<tr>\n",
       "  <th>US_page</th>   <td>   -0.0197</td> <td>    0.012</td> <td>   -1.634</td> <td> 0.102</td> <td>   -0.043</td> <td>    0.004</td>\n",
       "</tr>\n",
       "</table>"
      ],
      "text/plain": [
       "<class 'statsmodels.iolib.summary.Summary'>\n",
       "\"\"\"\n",
       "                           Logit Regression Results                           \n",
       "==============================================================================\n",
       "Dep. Variable:              converted   No. Observations:               290584\n",
       "Model:                          Logit   Df Residuals:                   290581\n",
       "Method:                           MLE   Df Model:                            2\n",
       "Date:                Wed, 03 May 2023   Pseudo R-squ.:               3.272e-05\n",
       "Time:                        10:25:44   Log-Likelihood:            -1.0639e+05\n",
       "converged:                       True   LL-Null:                   -1.0639e+05\n",
       "Covariance Type:            nonrobust   LLR p-value:                   0.03077\n",
       "==============================================================================\n",
       "                 coef    std err          z      P>|z|      [0.025      0.975]\n",
       "------------------------------------------------------------------------------\n",
       "intercept     -1.9873      0.007   -275.573      0.000      -2.001      -1.973\n",
       "CA_page       -0.0842      0.038     -2.225      0.026      -0.158      -0.010\n",
       "US_page       -0.0197      0.012     -1.634      0.102      -0.043       0.004\n",
       "==============================================================================\n",
       "\"\"\""
      ]
     },
     "execution_count": 4583,
     "metadata": {},
     "output_type": "execute_result"
    }
   ],
   "source": [
    "# The statsmodels function instantiates a logistical regression  \n",
    "# model and stores the results in the reg_model2 logit object.\n",
    "reg_model2 = sm.Logit(df_merged['converted'],\n",
    "                      df_merged[['intercept', 'CA_page', 'US_page']])\n",
    "\n",
    "# Creates a table of statistics from the model data.\n",
    "temp_rslt2 = reg_model2.fit()\n",
    "\n",
    "# Displays the model table.\n",
    "temp_rslt2.summary()"
   ]
  },
  {
   "cell_type": "markdown",
   "metadata": {},
   "source": [
    "### The p-value of the conversion rate in the US from the logistical regression model is 10.2%."
   ]
  },
  {
   "cell_type": "markdown",
   "metadata": {},
   "source": [
    "### The p-value in the US is greater than the Type-I error rate by 5.2%."
   ]
  },
  {
   "cell_type": "markdown",
   "metadata": {},
   "source": [
    "### The p-value of the conversion rate in CA from the logistical regression model is 2.6%."
   ]
  },
  {
   "cell_type": "markdown",
   "metadata": {},
   "source": [
    "### The p-value in CA is less than the Type-I error rate by 2.4%."
   ]
  },
  {
   "cell_type": "markdown",
   "metadata": {},
   "source": [
    "\n"
   ]
  },
  {
   "cell_type": "code",
   "execution_count": 4584,
   "metadata": {},
   "outputs": [
    {
     "name": "stdout",
     "output_type": "stream",
     "text": [
      "Optimization terminated successfully.\n",
      "         Current function value: 0.366117\n",
      "         Iterations 6\n"
     ]
    },
    {
     "data": {
      "text/html": [
       "<table class=\"simpletable\">\n",
       "<caption>Logit Regression Results</caption>\n",
       "<tr>\n",
       "  <th>Dep. Variable:</th>       <td>converted</td>    <th>  No. Observations:  </th>   <td>290584</td>   \n",
       "</tr>\n",
       "<tr>\n",
       "  <th>Model:</th>                 <td>Logit</td>      <th>  Df Residuals:      </th>   <td>290581</td>   \n",
       "</tr>\n",
       "<tr>\n",
       "  <th>Method:</th>                 <td>MLE</td>       <th>  Df Model:          </th>   <td>     2</td>   \n",
       "</tr>\n",
       "<tr>\n",
       "  <th>Date:</th>            <td>Wed, 03 May 2023</td> <th>  Pseudo R-squ.:     </th>  <td>1.082e-05</td> \n",
       "</tr>\n",
       "<tr>\n",
       "  <th>Time:</th>                <td>10:25:46</td>     <th>  Log-Likelihood:    </th> <td>-1.0639e+05</td>\n",
       "</tr>\n",
       "<tr>\n",
       "  <th>converged:</th>             <td>True</td>       <th>  LL-Null:           </th> <td>-1.0639e+05</td>\n",
       "</tr>\n",
       "<tr>\n",
       "  <th>Covariance Type:</th>     <td>nonrobust</td>    <th>  LLR p-value:       </th>   <td>0.3164</td>   \n",
       "</tr>\n",
       "</table>\n",
       "<table class=\"simpletable\">\n",
       "<tr>\n",
       "      <td></td>         <th>coef</th>     <th>std err</th>      <th>z</th>      <th>P>|z|</th>  <th>[0.025</th>    <th>0.975]</th>  \n",
       "</tr>\n",
       "<tr>\n",
       "  <th>intercept</th> <td>   -1.9926</td> <td>    0.008</td> <td> -252.910</td> <td> 0.000</td> <td>   -2.008</td> <td>   -1.977</td>\n",
       "</tr>\n",
       "<tr>\n",
       "  <th>UK_page</th>   <td>    0.0112</td> <td>    0.018</td> <td>    0.626</td> <td> 0.532</td> <td>   -0.024</td> <td>    0.046</td>\n",
       "</tr>\n",
       "<tr>\n",
       "  <th>US_page</th>   <td>   -0.0144</td> <td>    0.012</td> <td>   -1.155</td> <td> 0.248</td> <td>   -0.039</td> <td>    0.010</td>\n",
       "</tr>\n",
       "</table>"
      ],
      "text/plain": [
       "<class 'statsmodels.iolib.summary.Summary'>\n",
       "\"\"\"\n",
       "                           Logit Regression Results                           \n",
       "==============================================================================\n",
       "Dep. Variable:              converted   No. Observations:               290584\n",
       "Model:                          Logit   Df Residuals:                   290581\n",
       "Method:                           MLE   Df Model:                            2\n",
       "Date:                Wed, 03 May 2023   Pseudo R-squ.:               1.082e-05\n",
       "Time:                        10:25:46   Log-Likelihood:            -1.0639e+05\n",
       "converged:                       True   LL-Null:                   -1.0639e+05\n",
       "Covariance Type:            nonrobust   LLR p-value:                    0.3164\n",
       "==============================================================================\n",
       "                 coef    std err          z      P>|z|      [0.025      0.975]\n",
       "------------------------------------------------------------------------------\n",
       "intercept     -1.9926      0.008   -252.910      0.000      -2.008      -1.977\n",
       "UK_page        0.0112      0.018      0.626      0.532      -0.024       0.046\n",
       "US_page       -0.0144      0.012     -1.155      0.248      -0.039       0.010\n",
       "==============================================================================\n",
       "\"\"\""
      ]
     },
     "execution_count": 4584,
     "metadata": {},
     "output_type": "execute_result"
    }
   ],
   "source": [
    "# The statsmodels function instantiates a logistical regression  \n",
    "# model and stores the results in the reg_model3 logit object.\n",
    "reg_model3 = sm.Logit(df_merged2['converted'], \n",
    "                      df_merged2[['intercept', 'UK_page', 'US_page']])\n",
    "\n",
    "# Creates a table of statistics from the model data.\n",
    "temp_rslt3 = reg_model3.fit()\n",
    "\n",
    "# Displays the model table.\n",
    "temp_rslt3.summary()"
   ]
  },
  {
   "cell_type": "markdown",
   "metadata": {},
   "source": [
    "\n"
   ]
  },
  {
   "cell_type": "markdown",
   "metadata": {},
   "source": [
    "### The p-value of the conversion rate in the US from the logistical regression model is 24.8%."
   ]
  },
  {
   "cell_type": "markdown",
   "metadata": {},
   "source": [
    "### The p-value in the US is greater than the Type-I error rate by 19.8%."
   ]
  },
  {
   "cell_type": "markdown",
   "metadata": {},
   "source": [
    "### The p-value of the conversion rate in the UK from the logistical regression model is 53.2%."
   ]
  },
  {
   "cell_type": "markdown",
   "metadata": {},
   "source": [
    "### The p-value in the UK is greater than the Type-I error rate by 48..2%."
   ]
  },
  {
   "cell_type": "markdown",
   "metadata": {},
   "source": [
    "\n"
   ]
  },
  {
   "cell_type": "code",
   "execution_count": 4585,
   "metadata": {},
   "outputs": [
    {
     "name": "stdout",
     "output_type": "stream",
     "text": [
      "Optimization terminated successfully.\n",
      "         Current function value: 0.366113\n",
      "         Iterations 6\n"
     ]
    },
    {
     "data": {
      "text/html": [
       "<table class=\"simpletable\">\n",
       "<caption>Logit Regression Results</caption>\n",
       "<tr>\n",
       "  <th>Dep. Variable:</th>       <td>converted</td>    <th>  No. Observations:  </th>   <td>290584</td>   \n",
       "</tr>\n",
       "<tr>\n",
       "  <th>Model:</th>                 <td>Logit</td>      <th>  Df Residuals:      </th>   <td>290581</td>   \n",
       "</tr>\n",
       "<tr>\n",
       "  <th>Method:</th>                 <td>MLE</td>       <th>  Df Model:          </th>   <td>     2</td>   \n",
       "</tr>\n",
       "<tr>\n",
       "  <th>Date:</th>            <td>Wed, 03 May 2023</td> <th>  Pseudo R-squ.:     </th>  <td>2.364e-05</td> \n",
       "</tr>\n",
       "<tr>\n",
       "  <th>Time:</th>                <td>10:25:48</td>     <th>  Log-Likelihood:    </th> <td>-1.0639e+05</td>\n",
       "</tr>\n",
       "<tr>\n",
       "  <th>converged:</th>             <td>True</td>       <th>  LL-Null:           </th> <td>-1.0639e+05</td>\n",
       "</tr>\n",
       "<tr>\n",
       "  <th>Covariance Type:</th>     <td>nonrobust</td>    <th>  LLR p-value:       </th>   <td>0.08085</td>  \n",
       "</tr>\n",
       "</table>\n",
       "<table class=\"simpletable\">\n",
       "<tr>\n",
       "      <td></td>         <th>coef</th>     <th>std err</th>      <th>z</th>      <th>P>|z|</th>  <th>[0.025</th>    <th>0.975]</th>  \n",
       "</tr>\n",
       "<tr>\n",
       "  <th>intercept</th> <td>   -1.9963</td> <td>    0.006</td> <td> -322.049</td> <td> 0.000</td> <td>   -2.008</td> <td>   -1.984</td>\n",
       "</tr>\n",
       "<tr>\n",
       "  <th>CA_page</th>   <td>   -0.0752</td> <td>    0.038</td> <td>   -1.997</td> <td> 0.046</td> <td>   -0.149</td> <td>   -0.001</td>\n",
       "</tr>\n",
       "<tr>\n",
       "  <th>UK_page</th>   <td>    0.0149</td> <td>    0.017</td> <td>    0.862</td> <td> 0.389</td> <td>   -0.019</td> <td>    0.049</td>\n",
       "</tr>\n",
       "</table>"
      ],
      "text/plain": [
       "<class 'statsmodels.iolib.summary.Summary'>\n",
       "\"\"\"\n",
       "                           Logit Regression Results                           \n",
       "==============================================================================\n",
       "Dep. Variable:              converted   No. Observations:               290584\n",
       "Model:                          Logit   Df Residuals:                   290581\n",
       "Method:                           MLE   Df Model:                            2\n",
       "Date:                Wed, 03 May 2023   Pseudo R-squ.:               2.364e-05\n",
       "Time:                        10:25:48   Log-Likelihood:            -1.0639e+05\n",
       "converged:                       True   LL-Null:                   -1.0639e+05\n",
       "Covariance Type:            nonrobust   LLR p-value:                   0.08085\n",
       "==============================================================================\n",
       "                 coef    std err          z      P>|z|      [0.025      0.975]\n",
       "------------------------------------------------------------------------------\n",
       "intercept     -1.9963      0.006   -322.049      0.000      -2.008      -1.984\n",
       "CA_page       -0.0752      0.038     -1.997      0.046      -0.149      -0.001\n",
       "UK_page        0.0149      0.017      0.862      0.389      -0.019       0.049\n",
       "==============================================================================\n",
       "\"\"\""
      ]
     },
     "execution_count": 4585,
     "metadata": {},
     "output_type": "execute_result"
    }
   ],
   "source": [
    "# The statsmodels function instantiates a logistical regression  \n",
    "# model and stores the results in the reg_model4 logit object.\n",
    "reg_model4 = sm.Logit(df_merged3['converted'], \n",
    "                      df_merged3[['intercept', 'CA_page', 'UK_page']])\n",
    "\n",
    "# Creates a table of statistics from the model data.\n",
    "temp_rslt4 = reg_model4.fit()\n",
    "\n",
    "# Displays the model table.\n",
    "temp_rslt4.summary()"
   ]
  },
  {
   "cell_type": "markdown",
   "metadata": {},
   "source": [
    "### The p-value of the conversion rate in CA from the logistical regression model is 4.6%."
   ]
  },
  {
   "cell_type": "markdown",
   "metadata": {},
   "source": [
    "### The p-value in CA is less than the Type-I error rate by .4%."
   ]
  },
  {
   "cell_type": "markdown",
   "metadata": {},
   "source": [
    "### The p-value of the conversion rate in the UK from the logistical regression model is 38.9%."
   ]
  },
  {
   "cell_type": "markdown",
   "metadata": {},
   "source": [
    "### The p-value in the UK is greater than the Type-I error rate by 33.9%."
   ]
  },
  {
   "cell_type": "markdown",
   "metadata": {},
   "source": [
    "#### ------------------------------------------------------------------------------------------------------------------------------------------------------------------------------------------------------------------"
   ]
  },
  {
   "cell_type": "markdown",
   "metadata": {},
   "source": [
    "### The mean of p-values for the UK page from the models is 46.05%."
   ]
  },
  {
   "cell_type": "markdown",
   "metadata": {},
   "source": [
    "### The mean of p-values for the US page from the models is 17.5%."
   ]
  },
  {
   "cell_type": "markdown",
   "metadata": {},
   "source": [
    "### The mean of p-values for CA page from the models is 3.6%."
   ]
  },
  {
   "cell_type": "markdown",
   "metadata": {},
   "source": [
    "### There is a significant range (42.45%) of p-value means from the models: 3.6% (CA) to 46.05% (UK)."
   ]
  },
  {
   "cell_type": "markdown",
   "metadata": {},
   "source": [
    "<a id='conclusion'></a>\n",
    "## Conclusion"
   ]
  },
  {
   "cell_type": "markdown",
   "metadata": {},
   "source": [
    "### Based upon the data of the logistical regression model, there is insufficient evidence to reject the null."
   ]
  },
  {
   "cell_type": "markdown",
   "metadata": {},
   "source": [
    "### The 'countries.csv' data is segmented by country, which causes greater differences in p-values."
   ]
  },
  {
   "cell_type": "markdown",
   "metadata": {},
   "source": [
    "### This data can be utilized to discern and operate different pages for segmented demographics."
   ]
  },
  {
   "cell_type": "markdown",
   "metadata": {},
   "source": [
    "### The UK page has the highest percentage rate of conversions."
   ]
  },
  {
   "cell_type": "markdown",
   "metadata": {},
   "source": [
    "### Geography, culture, and other demographics are potential factors affecting conversion rates for both pages."
   ]
  },
  {
   "cell_type": "markdown",
   "metadata": {},
   "source": [
    "\n"
   ]
  }
 ],
 "metadata": {
  "kernelspec": {
   "display_name": "Python 3 (ipykernel)",
   "language": "python",
   "name": "python3"
  },
  "language_info": {
   "codemirror_mode": {
    "name": "ipython",
    "version": 3
   },
   "file_extension": ".py",
   "mimetype": "text/x-python",
   "name": "python",
   "nbconvert_exporter": "python",
   "pygments_lexer": "ipython3",
   "version": "3.10.10"
  }
 },
 "nbformat": 4,
 "nbformat_minor": 2
}
